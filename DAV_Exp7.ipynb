{
  "cells": [
    {
      "cell_type": "markdown",
      "metadata": {
        "id": "view-in-github",
        "colab_type": "text"
      },
      "source": [
        "<a href=\"https://colab.research.google.com/github/ni190304/DAV_44/blob/master/DAV_Exp7.ipynb\" target=\"_parent\"><img src=\"https://colab.research.google.com/assets/colab-badge.svg\" alt=\"Open In Colab\"/></a>"
      ]
    },
    {
      "cell_type": "markdown",
      "source": [
        "# Experiment 7"
      ],
      "metadata": {
        "id": "HhoGObXilR0k"
      }
    },
    {
      "cell_type": "markdown",
      "source": [
        "Name: Nihaal Nayak  \n",
        "Class: D11AD    \n",
        "Roll No: 44   "
      ],
      "metadata": {
        "id": "LShhxoL1lgQk"
      }
    },
    {
      "cell_type": "markdown",
      "source": [
        "**Aim**: To understand and use various text analysis libraries in Python and R.         \n",
        "**Lab Objectives**: To effectively use libraries for text analysis.    \n",
        "**Lab Outcomes**: Design Text Analytics Application on a given data set.\n",
        "\n",
        "**Tasks Performed**:\n",
        "1. Explore Top-5 Text Analytics Libraries in Python (w.r.t Features & Applications)\n",
        "2. Explore Top-5 Text Analytics Libraries in R (w.r.t Features & Applications)\n",
        "3. Perform the following experiments using Python & R\n",
        "  - Tokenization (Sentence & Word)\n",
        "  - Frequency Distribution\n",
        "  - Remove stopwords & punctuations\n",
        "  - Lexicon Normalization (Stemming, Lemmatization)\n",
        "  - Part of Speech tagging\n",
        "  - Named Entity Recognization\n",
        "  - Scrape data from a website"
      ],
      "metadata": {
        "id": "Li6EB15CloLF"
      }
    },
    {
      "cell_type": "markdown",
      "source": [
        "### **Theory**:"
      ],
      "metadata": {
        "id": "6hu_z5tClslO"
      }
    },
    {
      "cell_type": "markdown",
      "source": [
        "### Python\n",
        "**NLTK (Natural Language Toolkit)**:\n",
        "\n",
        "NLTK is a powerful library for working with human language data and performing various tasks such as tokenization, stemming, lemmatization, part-of-speech tagging, and named entity recognition.\n",
        "\n",
        "**spaCy:**\n",
        "\n",
        "spaCy is an open-source library for advanced natural language processing tasks. It provides pre-trained models for various languages and is known for its efficiency in terms of speed and memory usage.\n",
        "\n",
        "**TextBlob:**\n",
        "\n",
        "TextBlob is a simple and easy-to-use library for processing textual data. It offers a high-level interface for common NLP tasks such as part-of-speech tagging, noun phrase extraction, sentiment analysis, classification, translation, and more.\n",
        "\n",
        "**Gensim:**\n",
        "\n",
        "Gensim is a library for topic modeling and document similarity analysis. It is often used for unsupervised learning on large text corpora, providing implementations for algorithms like Latent Semantic Analysis (LSA) and Latent Dirichlet Allocation (LDA).\n",
        "\n",
        "**BeautifulSoup (for Web Scraping):**\n",
        "\n",
        "BeautifulSoup is a library used for web scraping purposes. It helps to pull the data out of HTML and XML files and is widely used in conjunction with requests library to scrape and parse web content.\n",
        "Website: BeautifulSoup\n",
        "\n",
        "### R\n",
        "**tm (Text Mining Infrastructure in R):**\n",
        "\n",
        "The tm package provides a framework for text mining applications within R. It supports various text preprocessing tasks, including text cleaning, stemming, and term-document matrix creation.\n",
        "\n",
        "**quanteda:**\n",
        "\n",
        "quanteda is a comprehensive package for text analysis, providing tools for text corpus creation, document-feature matrix construction, and various text mining and analysis functions.\n",
        "\n",
        "**NLP (Natural Language Processing):**\n",
        "\n",
        "The NLP package provides functions for natural language processing tasks, including tokenization, stemming, and part-of-speech tagging. It is often used in conjunction with other text analysis libraries.\n",
        "\n",
        "**openNLP:**\n",
        "\n",
        "openNLP is an R interface to Apache OpenNLP, which is a library for natural language processing. It provides functions for part-of-speech tagging, named entity recognition, and other language processing tasks.\n",
        "\n",
        "**rvest:**\n",
        "\n",
        "rvest is a powerful package for web scraping in R. It is particularly useful for extracting information from HTML and XML documents on the web."
      ],
      "metadata": {
        "id": "ipNORNJ9lxJU"
      }
    },
    {
      "cell_type": "code",
      "execution_count": 1,
      "metadata": {
        "colab": {
          "base_uri": "https://localhost:8080/"
        },
        "id": "PgrCx7hfl01H",
        "outputId": "6be738e2-ee4b-4324-a1c4-7660244b424a"
      },
      "outputs": [
        {
          "output_type": "stream",
          "name": "stdout",
          "text": [
            "Requirement already satisfied: nltk in /usr/local/lib/python3.10/dist-packages (3.8.1)\n",
            "Requirement already satisfied: click in /usr/local/lib/python3.10/dist-packages (from nltk) (8.1.7)\n",
            "Requirement already satisfied: joblib in /usr/local/lib/python3.10/dist-packages (from nltk) (1.3.2)\n",
            "Requirement already satisfied: regex>=2021.8.3 in /usr/local/lib/python3.10/dist-packages (from nltk) (2023.12.25)\n",
            "Requirement already satisfied: tqdm in /usr/local/lib/python3.10/dist-packages (from nltk) (4.66.2)\n"
          ]
        }
      ],
      "source": [
        "!pip install nltk"
      ]
    },
    {
      "cell_type": "code",
      "source": [
        "import nltk"
      ],
      "metadata": {
        "id": "V2NIImsqJj-b"
      },
      "execution_count": 2,
      "outputs": []
    },
    {
      "cell_type": "code",
      "execution_count": 3,
      "metadata": {
        "colab": {
          "base_uri": "https://localhost:8080/"
        },
        "id": "liG2nlEBnuEX",
        "outputId": "4b4ae62e-bb02-4623-d337-0abc529bbf3c"
      },
      "outputs": [
        {
          "output_type": "stream",
          "name": "stderr",
          "text": [
            "[nltk_data] Downloading package punkt to /root/nltk_data...\n",
            "[nltk_data]   Unzipping tokenizers/punkt.zip.\n"
          ]
        },
        {
          "output_type": "execute_result",
          "data": {
            "text/plain": [
              "True"
            ]
          },
          "metadata": {},
          "execution_count": 3
        }
      ],
      "source": [
        "nltk.download('punkt')"
      ]
    },
    {
      "cell_type": "code",
      "execution_count": null,
      "metadata": {
        "id": "Y1N03H8LmL1s"
      },
      "outputs": [],
      "source": [
        "# Tokenization (Sentence & Word)"
      ]
    },
    {
      "cell_type": "code",
      "execution_count": 21,
      "metadata": {
        "colab": {
          "base_uri": "https://localhost:8080/"
        },
        "id": "-wdwPS9MmVJc",
        "outputId": "a40b6be4-41b4-4917-de09-9b59ee8f2922"
      },
      "outputs": [
        {
          "output_type": "stream",
          "name": "stdout",
          "text": [
            "['I want to drive away with you, I want to go out with you, I am running in a park']\n"
          ]
        }
      ],
      "source": [
        "\n",
        "from nltk.tokenize import sent_tokenize\n",
        "text=\"\"\"I want to drive away with you, I want to go out with you, I am running in a park\"\"\"\n",
        "\n",
        "tokenized_text=sent_tokenize(text)\n",
        "print(tokenized_text)"
      ]
    },
    {
      "cell_type": "code",
      "execution_count": 22,
      "metadata": {
        "colab": {
          "base_uri": "https://localhost:8080/"
        },
        "id": "3xYxtNSanFYm",
        "outputId": "dd304ca3-42ca-403a-b8be-8679d0d296ab"
      },
      "outputs": [
        {
          "output_type": "stream",
          "name": "stdout",
          "text": [
            "['I', 'want', 'to', 'drive', 'away', 'with', 'you', ',', 'I', 'want', 'to', 'go', 'out', 'with', 'you', ',', 'I', 'am', 'running', 'in', 'a', 'park']\n"
          ]
        }
      ],
      "source": [
        "from nltk.tokenize import word_tokenize\n",
        "\n",
        "tokenized_word=word_tokenize(text)\n",
        "\n",
        "print(tokenized_word)"
      ]
    },
    {
      "cell_type": "markdown",
      "metadata": {
        "id": "XX06j-z0owXm"
      },
      "source": [
        "Frequency Distribution"
      ]
    },
    {
      "cell_type": "code",
      "execution_count": 23,
      "metadata": {
        "colab": {
          "base_uri": "https://localhost:8080/"
        },
        "id": "Pr5F53XroMBH",
        "outputId": "350de21d-0eaa-4207-b209-d1f0be3135ee"
      },
      "outputs": [
        {
          "output_type": "stream",
          "name": "stdout",
          "text": [
            "[('I', 3), ('want', 2)]\n"
          ]
        }
      ],
      "source": [
        "from nltk.probability import FreqDist\n",
        "\n",
        "fdist = FreqDist(tokenized_word)\n",
        "print(fdist.most_common(2))"
      ]
    },
    {
      "cell_type": "code",
      "execution_count": 24,
      "metadata": {
        "colab": {
          "base_uri": "https://localhost:8080/"
        },
        "id": "sapwZUN0p3Ne",
        "outputId": "0568756b-3607-46ef-ca9e-6300776638f7"
      },
      "outputs": [
        {
          "output_type": "stream",
          "name": "stdout",
          "text": [
            "<FreqDist with 15 samples and 22 outcomes>\n"
          ]
        }
      ],
      "source": [
        "print(fdist)"
      ]
    },
    {
      "cell_type": "code",
      "execution_count": 25,
      "metadata": {
        "colab": {
          "base_uri": "https://localhost:8080/",
          "height": 471
        },
        "id": "wcjTcitBpuE3",
        "outputId": "0ccce329-1ff5-481f-a0b8-ff5fe84be1f3"
      },
      "outputs": [
        {
          "output_type": "display_data",
          "data": {
            "text/plain": [
              "<Figure size 640x480 with 1 Axes>"
            ],
            "image/png": "[encoded data removed]"
          },
          "metadata": {}
        }
      ],
      "source": [
        "import matplotlib.pyplot as plt\n",
        "\n",
        "fdist.plot(7,cumulative=False)\n",
        "plt.show()"
      ]
    },
    {
      "cell_type": "markdown",
      "metadata": {
        "id": "mX6cGdjorNcG"
      },
      "source": [
        "Remove stopwords & punctuations"
      ]
    },
    {
      "cell_type": "code",
      "execution_count": 26,
      "metadata": {
        "colab": {
          "base_uri": "https://localhost:8080/"
        },
        "id": "jPPuTsKkqqxT",
        "outputId": "5ea65b34-4b1b-450f-e95f-bf190ad90bff"
      },
      "outputs": [
        {
          "output_type": "stream",
          "name": "stderr",
          "text": [
            "[nltk_data] Downloading package stopwords to /root/nltk_data...\n",
            "[nltk_data]   Package stopwords is already up-to-date!\n"
          ]
        },
        {
          "output_type": "execute_result",
          "data": {
            "text/plain": [
              "True"
            ]
          },
          "metadata": {},
          "execution_count": 26
        }
      ],
      "source": [
        "nltk.download('stopwords')"
      ]
    },
    {
      "cell_type": "code",
      "execution_count": 27,
      "metadata": {
        "colab": {
          "base_uri": "https://localhost:8080/"
        },
        "id": "5MGXvNyqp0QW",
        "outputId": "2c6411d6-6f6d-487c-a130-136e58470fc2"
      },
      "outputs": [
        {
          "output_type": "stream",
          "name": "stdout",
          "text": [
            "{'of', 'why', 'only', 'between', \"hasn't\", 'a', 'mustn', 'so', 'does', 'or', 'ain', 'he', \"it's\", 'with', 'be', 'now', 'doesn', 'ourselves', 'some', 'just', 'from', 'has', 'its', 'same', 'aren', 'm', 'wouldn', 'as', 'while', 'y', 'being', 'nor', 'won', 'having', 'at', 'about', 'doing', 'itself', 'most', 'should', 'herself', 'it', 'once', 'who', 'and', 'don', \"she's\", 'o', 'our', 'me', 'him', \"couldn't\", 'after', 'himself', 'over', \"should've\", \"needn't\", 'themselves', 'couldn', 'below', 'myself', 'by', 'i', 'no', 'shouldn', 'than', 'before', 'when', 'what', 'theirs', 'have', \"don't\", 'out', 'mightn', 'your', 'during', 'do', 'hasn', 'those', 'hers', 'was', 'any', 'because', 'if', 'under', 'other', 'were', 'll', 'yourself', 'these', 'how', 'didn', 'through', 'in', 'again', 'too', 'further', 'shan', \"wasn't\", 'their', 's', 'the', 'd', \"mightn't\", \"won't\", 'did', 'can', \"doesn't\", 'isn', 'on', 'then', \"shan't\", 'above', 'where', 'am', 'are', 'yourselves', 'is', 't', 'own', 'yours', 'you', \"you'll\", 'this', 'there', 'which', \"hadn't\", \"shouldn't\", 'down', 'we', 'they', \"didn't\", \"haven't\", 'ma', 'had', 'into', 'off', 'my', 'will', 'his', \"aren't\", \"mustn't\", 'an', 'ours', 'she', 'few', 'been', 'such', 're', \"weren't\", 'needn', \"you're\", 'haven', \"wouldn't\", 'but', 'to', 'wasn', 'against', \"isn't\", 'here', 'for', 'up', 'weren', 'her', 'that', 'more', 'all', 'them', 'until', \"you've\", 'each', 'whom', 'both', 'not', \"that'll\", 've', 'hadn', \"you'd\", 'very'}\n"
          ]
        }
      ],
      "source": [
        "from nltk.corpus import stopwords\n",
        "\n",
        "stop_words=set(stopwords.words(\"english\"))\n",
        "\n",
        "print(stop_words)"
      ]
    },
    {
      "cell_type": "code",
      "execution_count": 28,
      "metadata": {
        "colab": {
          "base_uri": "https://localhost:8080/"
        },
        "id": "nlr1RDv-qwii",
        "outputId": "6eec5ea1-5395-4bfb-c2d3-f2ae8371b64e"
      },
      "outputs": [
        {
          "output_type": "stream",
          "name": "stdout",
          "text": [
            "Tokenized Words: ['I', 'want', 'to', 'drive', 'away', 'with', 'you', ',', 'I', 'want', 'to', 'go', 'out', 'with', 'you', ',', 'I', 'am', 'running', 'in', 'a', 'park']\n",
            "Filterd Tokens: ['I', 'want', 'drive', 'away', ',', 'I', 'want', 'go', ',', 'I', 'running', 'park']\n"
          ]
        }
      ],
      "source": [
        "filtered_tokens=[]\n",
        "for w in tokenized_word:\n",
        "    if w not in stop_words:\n",
        "         filtered_tokens.append(w)\n",
        "\n",
        "print(\"Tokenized Words:\",tokenized_word)\n",
        "print(\"Filterd Tokens:\",filtered_tokens)"
      ]
    },
    {
      "cell_type": "code",
      "execution_count": 29,
      "metadata": {
        "colab": {
          "base_uri": "https://localhost:8080/"
        },
        "id": "bZS8drw1rUmw",
        "outputId": "dab8b0bd-9b7c-4df1-b355-eb9ad15333ee"
      },
      "outputs": [
        {
          "output_type": "execute_result",
          "data": {
            "text/plain": [
              "['!',\n",
              " '\"',\n",
              " '#',\n",
              " '$',\n",
              " '%',\n",
              " '&',\n",
              " \"'\",\n",
              " '(',\n",
              " ')',\n",
              " '*',\n",
              " '+',\n",
              " ',',\n",
              " '-',\n",
              " '.',\n",
              " '/',\n",
              " ':',\n",
              " ';',\n",
              " '<',\n",
              " '=',\n",
              " '>',\n",
              " '?',\n",
              " '@',\n",
              " '[',\n",
              " '\\\\',\n",
              " ']',\n",
              " '^',\n",
              " '_',\n",
              " '`',\n",
              " '{',\n",
              " '|',\n",
              " '}',\n",
              " '~']"
            ]
          },
          "metadata": {},
          "execution_count": 29
        }
      ],
      "source": [
        "import string\n",
        "\n",
        "# punctuations\n",
        "punctuations=list(string.punctuation)\n",
        "punctuations"
      ]
    },
    {
      "cell_type": "code",
      "execution_count": 30,
      "metadata": {
        "colab": {
          "base_uri": "https://localhost:8080/"
        },
        "id": "9i9_wP3KrbMv",
        "outputId": "650ccda3-5c11-46ff-ecf7-92c6af2fed84"
      },
      "outputs": [
        {
          "output_type": "stream",
          "name": "stdout",
          "text": [
            "Filterd Tokens After Removing Punctuations: ['I', 'want', 'drive', 'away', 'I', 'want', 'go', 'I', 'running', 'park']\n"
          ]
        }
      ],
      "source": [
        "filtered_tokens2=[]\n",
        "\n",
        "for i in filtered_tokens:\n",
        "    if i not in punctuations:\n",
        "        filtered_tokens2.append(i)\n",
        "\n",
        "print(\"Filterd Tokens After Removing Punctuations:\",filtered_tokens2)"
      ]
    },
    {
      "cell_type": "markdown",
      "metadata": {
        "id": "XU1KfDYjsUDP"
      },
      "source": [
        "Lexicon Normalization"
      ]
    },
    {
      "cell_type": "code",
      "execution_count": 31,
      "metadata": {
        "colab": {
          "base_uri": "https://localhost:8080/"
        },
        "id": "QJqXkLmfr8nA",
        "outputId": "3f15cc96-9405-4732-ac28-4875c5fbcc17"
      },
      "outputs": [
        {
          "output_type": "stream",
          "name": "stdout",
          "text": [
            "Filtered Tokens After Removing Punctuations: ['I', 'want', 'drive', 'away', 'I', 'want', 'go', 'I', 'running', 'park']\n",
            "Stemmed Tokens: ['i', 'want', 'drive', 'away', 'i', 'want', 'go', 'i', 'run', 'park']\n"
          ]
        }
      ],
      "source": [
        "# Stemming\n",
        "from nltk.stem import PorterStemmer\n",
        "from nltk.tokenize import sent_tokenize, word_tokenize\n",
        "ps = PorterStemmer()\n",
        "\n",
        "stemmed_words=[]\n",
        "\n",
        "for w in filtered_tokens2:\n",
        "     stemmed_words.append(ps.stem(w))\n",
        "\n",
        "print(\"Filtered Tokens After Removing Punctuations:\",filtered_tokens2)\n",
        "print(\"Stemmed Tokens:\",stemmed_words)"
      ]
    },
    {
      "cell_type": "code",
      "execution_count": 32,
      "metadata": {
        "colab": {
          "base_uri": "https://localhost:8080/"
        },
        "id": "8M2BMQ24sz9O",
        "outputId": "ceaf35ba-af1a-44d0-8fe9-800a7db7caa7"
      },
      "outputs": [
        {
          "output_type": "stream",
          "name": "stderr",
          "text": [
            "[nltk_data] Downloading package wordnet to /root/nltk_data...\n"
          ]
        },
        {
          "output_type": "execute_result",
          "data": {
            "text/plain": [
              "True"
            ]
          },
          "metadata": {},
          "execution_count": 32
        }
      ],
      "source": [
        "nltk.download('wordnet')"
      ]
    },
    {
      "cell_type": "code",
      "execution_count": 36,
      "metadata": {
        "colab": {
          "base_uri": "https://localhost:8080/"
        },
        "id": "ADvBxYU5r9X2",
        "outputId": "576bfb34-e15a-4f57-c6fe-920fe62d3261"
      },
      "outputs": [
        {
          "output_type": "stream",
          "name": "stdout",
          "text": [
            "['The', 'quick', 'brown', 'fox', 'are', 'jumping', 'over', 'the', 'lazy', 'dog']\n"
          ]
        }
      ],
      "source": [
        "from nltk.stem import WordNetLemmatizer\n",
        "from nltk.tokenize import word_tokenize\n",
        "\n",
        "# Initialize the WordNet Lemmatizer\n",
        "lemmatizer = WordNetLemmatizer()\n",
        "\n",
        "# Example text\n",
        "text = \"The quick brown foxes are jumping over the lazy dogs\"\n",
        "\n",
        "# Tokenize the text into words\n",
        "words = word_tokenize(text)\n",
        "\n",
        "# Apply lemmatization to each word\n",
        "lemmatized_words = [lemmatizer.lemmatize(word) for word in words]\n",
        "\n",
        "print(lemmatized_words)\n"
      ]
    },
    {
      "cell_type": "markdown",
      "metadata": {
        "id": "r-yXSzK1ufeA"
      },
      "source": [
        "Part of Speech tagging"
      ]
    },
    {
      "cell_type": "code",
      "execution_count": 38,
      "metadata": {
        "colab": {
          "base_uri": "https://localhost:8080/"
        },
        "id": "LXXRBHuvu2Ae",
        "outputId": "fae306f2-a17d-4796-bcf2-3c7f874a1215"
      },
      "outputs": [
        {
          "output_type": "stream",
          "name": "stderr",
          "text": [
            "[nltk_data] Downloading package averaged_perceptron_tagger to\n",
            "[nltk_data]     /root/nltk_data...\n",
            "[nltk_data]   Package averaged_perceptron_tagger is already up-to-\n",
            "[nltk_data]       date!\n"
          ]
        },
        {
          "output_type": "execute_result",
          "data": {
            "text/plain": [
              "True"
            ]
          },
          "metadata": {},
          "execution_count": 38
        }
      ],
      "source": [
        " nltk.download('averaged_perceptron_tagger')"
      ]
    },
    {
      "cell_type": "code",
      "execution_count": 40,
      "metadata": {
        "colab": {
          "base_uri": "https://localhost:8080/"
        },
        "id": "LndFa1YitfLZ",
        "outputId": "c8d28442-cd34-451a-c116-7fef49613e7f"
      },
      "outputs": [
        {
          "output_type": "stream",
          "name": "stdout",
          "text": [
            "Tokens: ['The', 'curious', 'cat', 'gracefully', 'danced', 'on', 'the', 'moonlit', 'rooftop', 'while', 'serenading', 'the', 'stars', 'with', 'its', 'melodic', 'purring', '.']\n",
            "PoS tags: [('The', 'DT'), ('curious', 'JJ'), ('cat', 'NN'), ('gracefully', 'RB'), ('danced', 'VBN'), ('on', 'IN'), ('the', 'DT'), ('moonlit', 'NN'), ('rooftop', 'NN'), ('while', 'IN'), ('serenading', 'VBG'), ('the', 'DT'), ('stars', 'NNS'), ('with', 'IN'), ('its', 'PRP$'), ('melodic', 'JJ'), ('purring', 'NN'), ('.', '.')]\n"
          ]
        }
      ],
      "source": [
        "from nltk.tokenize import word_tokenize\n",
        "from nltk import pos_tag\n",
        "\n",
        "sent = \"The curious cat gracefully danced on the moonlit rooftop while serenading the stars with its melodic purring.\"\n",
        "\n",
        "tokens=word_tokenize(sent)\n",
        "pos_=pos_tag(tokens)\n",
        "\n",
        "\n",
        "print(\"Tokens:\",tokens)\n",
        "print(\"PoS tags:\",pos_)"
      ]
    },
    {
      "cell_type": "markdown",
      "metadata": {
        "id": "90xW7B-UvLTA"
      },
      "source": [
        "Named Entity Recognization"
      ]
    },
    {
      "cell_type": "code",
      "execution_count": 41,
      "metadata": {
        "colab": {
          "base_uri": "https://localhost:8080/"
        },
        "id": "ko-E6rSBvpXg",
        "outputId": "50e0a157-d003-419f-ce62-728ce36972fe"
      },
      "outputs": [
        {
          "output_type": "stream",
          "name": "stderr",
          "text": [
            "[nltk_data] Downloading package maxent_ne_chunker to\n",
            "[nltk_data]     /root/nltk_data...\n",
            "[nltk_data]   Unzipping chunkers/maxent_ne_chunker.zip.\n"
          ]
        },
        {
          "output_type": "execute_result",
          "data": {
            "text/plain": [
              "True"
            ]
          },
          "metadata": {},
          "execution_count": 41
        }
      ],
      "source": [
        "nltk.download('maxent_ne_chunker')\n"
      ]
    },
    {
      "cell_type": "code",
      "execution_count": 42,
      "metadata": {
        "colab": {
          "base_uri": "https://localhost:8080/"
        },
        "id": "OV4V4GRKv_in",
        "outputId": "84915f31-bd8a-4002-8918-e00d0a5a70cf"
      },
      "outputs": [
        {
          "output_type": "stream",
          "name": "stderr",
          "text": [
            "[nltk_data] Downloading package words to /root/nltk_data...\n",
            "[nltk_data]   Unzipping corpora/words.zip.\n"
          ]
        },
        {
          "output_type": "execute_result",
          "data": {
            "text/plain": [
              "True"
            ]
          },
          "metadata": {},
          "execution_count": 42
        }
      ],
      "source": [
        "nltk.download('words')"
      ]
    },
    {
      "cell_type": "code",
      "execution_count": 45,
      "metadata": {
        "colab": {
          "base_uri": "https://localhost:8080/"
        },
        "id": "yq_CarWrvJMX",
        "outputId": "6a507d90-c15a-4829-d1e6-2649d7ab8998"
      },
      "outputs": [
        {
          "output_type": "stream",
          "name": "stdout",
          "text": [
            "GPE Crisp\n"
          ]
        }
      ],
      "source": [
        "from nltk import ne_chunk\n",
        "\n",
        "\n",
        "sent=\"Crisp autumn leaves rustled gently in the breeze as the old oak tree stood sentinel over the peaceful meadow.\"\n",
        "\n",
        "for chunk in ne_chunk(nltk.pos_tag(word_tokenize(sent))):\n",
        "        if hasattr(chunk, 'label'):\n",
        "            print(chunk.label(), ' '.join(c[0] for c in chunk))"
      ]
    },
    {
      "cell_type": "markdown",
      "metadata": {
        "id": "dshz-SPEwptQ"
      },
      "source": [
        "Scrape data from a website"
      ]
    },
    {
      "cell_type": "code",
      "execution_count": 46,
      "metadata": {
        "id": "k8KEOcW-whjw",
        "colab": {
          "base_uri": "https://localhost:8080/"
        },
        "outputId": "ee0aeb0d-4946-4d04-8f0c-1f2e242db432"
      },
      "outputs": [
        {
          "output_type": "stream",
          "name": "stdout",
          "text": [
            "Requirement already satisfied: requests in /usr/local/lib/python3.10/dist-packages (2.31.0)\n",
            "Requirement already satisfied: beautifulsoup4 in /usr/local/lib/python3.10/dist-packages (4.12.3)\n",
            "Requirement already satisfied: pandas in /usr/local/lib/python3.10/dist-packages (1.5.3)\n",
            "\u001b[31mERROR: Could not find a version that satisfies the requirement time (from versions: none)\u001b[0m\u001b[31m\n",
            "\u001b[0m\u001b[31mERROR: No matching distribution found for time\u001b[0m\u001b[31m\n",
            "\u001b[0m"
          ]
        }
      ],
      "source": [
        "!pip install requests beautifulsoup4 pandas time"
      ]
    },
    {
      "cell_type": "code",
      "source": [
        "import requests\n",
        "\n",
        "from bs4 import BeautifulSoup\n",
        "import pandas as pd\n",
        "import time\n",
        "\n",
        "url = \"https://www.imdb.com/chart/top\"\n",
        "\n",
        "response = requests.get(url)\n",
        "\n",
        "soup = BeautifulSoup(response.content, 'html.parser')\n",
        "\n",
        "movies = []\n",
        "for row in soup.select('tbody.lister-list tr'):\n",
        "  title = row.find('td', class_='titleColumn').find('a').get_text()\n",
        "  year = row.find('td', class_='titleColumn').find('span', class_='secondaryInfo').get_text()[1:-1]\n",
        "  rating = row.find('td', class_='ratingColumn imdbRating').find('strong').get_text()\n",
        "  movies.append([title, year, rating])\n",
        "\n",
        "df = pd.DataFrame(movies, columns=['Title', 'Year', 'Rating'])\n",
        "\n",
        "time.sleep(1)"
      ],
      "metadata": {
        "id": "XOpIftIEJ6c0"
      },
      "execution_count": 47,
      "outputs": []
    },
    {
      "cell_type": "code",
      "source": [
        "df.to_csv('top-movies.csv', index=False)"
      ],
      "metadata": {
        "id": "XZxHtnWgKHW9"
      },
      "execution_count": 48,
      "outputs": []
    },
    {
      "cell_type": "code",
      "source": [
        "##Tokenization (Sentence & Word)"
      ],
      "metadata": {
        "id": "IARkzwdSzVeh"
      },
      "execution_count": null,
      "outputs": []
    },
    {
      "cell_type": "code",
      "source": [
        "# Install and load the 'tokenizers' package\n",
        "install.packages(\"tokenizers\")\n",
        "library(tokenizers)\n",
        "\n",
        "# Sample text\n",
        "text <- \"good morning \"\n",
        "\n",
        "# Tokenize the text into words\n",
        "word_tokens <- unlist(tokenize_words(text))\n",
        "\n",
        "# Print the result\n",
        "print(word_tokens)\n"
      ],
      "metadata": {
        "id": "3xCw_QO2zX3a",
        "colab": {
          "base_uri": "https://localhost:8080/"
        },
        "outputId": "45b16a10-d961-4195-9773-9608975703c6"
      },
      "execution_count": 1,
      "outputs": [
        {
          "output_type": "stream",
          "name": "stderr",
          "text": [
            "Installing package into ‘/usr/local/lib/R/site-library’\n",
            "(as ‘lib’ is unspecified)\n",
            "\n",
            "also installing the dependencies ‘Rcpp’, ‘SnowballC’\n",
            "\n",
            "\n"
          ]
        },
        {
          "output_type": "stream",
          "name": "stdout",
          "text": [
            "[1] \"good\"    \"morning\"\n"
          ]
        }
      ]
    },
    {
      "cell_type": "code",
      "source": [
        "# Remove stopwords & punctuations in R"
      ],
      "metadata": {
        "id": "ZGEIiPANK7L5"
      },
      "execution_count": null,
      "outputs": []
    },
    {
      "cell_type": "code",
      "source": [
        "install.packages(\"tm\")\n"
      ],
      "metadata": {
        "colab": {
          "base_uri": "https://localhost:8080/"
        },
        "id": "wCNnINAzKOWj",
        "outputId": "645c77fd-0615-4c5d-e81a-3f6ac8e19af4"
      },
      "execution_count": 2,
      "outputs": [
        {
          "output_type": "stream",
          "name": "stderr",
          "text": [
            "Installing package into ‘/usr/local/lib/R/site-library’\n",
            "(as ‘lib’ is unspecified)\n",
            "\n",
            "also installing the dependencies ‘NLP’, ‘slam’, ‘BH’\n",
            "\n",
            "\n"
          ]
        }
      ]
    },
    {
      "cell_type": "markdown",
      "source": [
        "Remove stopwords & punctuations"
      ],
      "metadata": {
        "id": "IzX8st5vNtpn"
      }
    },
    {
      "cell_type": "code",
      "source": [
        "library(tm)\n",
        "\n",
        "# Sample text\n",
        "text <- \"This is a sample sentence, demonstrating the removal of stopwords and punctuations.\"\n",
        "\n",
        "# Create a Corpus\n",
        "corpus <- Corpus(VectorSource(text))\n",
        "\n",
        "# Convert to lowercase\n",
        "corpus <- tm_map(corpus, content_transformer(tolower))\n",
        "\n",
        "# Remove punctuation\n",
        "corpus <- tm_map(corpus, removePunctuation)\n",
        "\n",
        "# Remove stopwords\n",
        "corpus <- tm_map(corpus, removeWords, stopwords(\"english\"))\n",
        "\n",
        "# Convert back to text\n",
        "clean_text <- sapply(corpus, as.character)\n",
        "\n",
        "clean_text\n"
      ],
      "metadata": {
        "colab": {
          "base_uri": "https://localhost:8080/",
          "height": 173
        },
        "id": "N4eraH90K53o",
        "outputId": "99ebdcbb-c6f0-4b17-f016-0a0da1653db6"
      },
      "execution_count": 3,
      "outputs": [
        {
          "output_type": "stream",
          "name": "stderr",
          "text": [
            "Loading required package: NLP\n",
            "\n",
            "Warning message in tm_map.SimpleCorpus(corpus, content_transformer(tolower)):\n",
            "“transformation drops documents”\n",
            "Warning message in tm_map.SimpleCorpus(corpus, removePunctuation):\n",
            "“transformation drops documents”\n",
            "Warning message in tm_map.SimpleCorpus(corpus, removeWords, stopwords(\"english\")):\n",
            "“transformation drops documents”\n"
          ]
        },
        {
          "output_type": "display_data",
          "data": {
            "text/html": [
              "<span style=white-space:pre-wrap>'   sample sentence demonstrating  removal  stopwords  punctuations'</span>"
            ],
            "text/markdown": "<span style=white-space:pre-wrap>'   sample sentence demonstrating  removal  stopwords  punctuations'</span>",
            "text/latex": "'   sample sentence demonstrating  removal  stopwords  punctuations'",
            "text/plain": [
              "[1] \"   sample sentence demonstrating  removal  stopwords  punctuations\""
            ]
          },
          "metadata": {}
        }
      ]
    },
    {
      "cell_type": "markdown",
      "source": [
        " Lexicon normalization in R"
      ],
      "metadata": {
        "id": "ZXkgMxcrNaU_"
      }
    },
    {
      "cell_type": "code",
      "source": [
        "text <- \"This is a Sample Text\"\n",
        "normalized_text <- tolower(text)\n",
        "print(normalized_text)\n"
      ],
      "metadata": {
        "colab": {
          "base_uri": "https://localhost:8080/"
        },
        "id": "NatNc-ijLhKi",
        "outputId": "382d28b8-58b1-478d-ea81-2a31a62e8a60"
      },
      "execution_count": 15,
      "outputs": [
        {
          "output_type": "stream",
          "name": "stdout",
          "text": [
            "[1] \"this is a sample text\"\n"
          ]
        }
      ]
    },
    {
      "cell_type": "code",
      "source": [
        "text <- \"This is a sample text with punctuation, like commas and periods.\"\n",
        "normalized_text <- gsub(\"[[:punct:]]\", \"\", text)\n",
        "print(normalized_text)\n"
      ],
      "metadata": {
        "id": "fgHEv9oYNCRF",
        "colab": {
          "base_uri": "https://localhost:8080/"
        },
        "outputId": "07f2e192-448c-4859-b48d-85c10317244c"
      },
      "execution_count": 16,
      "outputs": [
        {
          "output_type": "stream",
          "name": "stdout",
          "text": [
            "[1] \"This is a sample text with punctuation like commas and periods\"\n"
          ]
        }
      ]
    },
    {
      "cell_type": "code",
      "source": [
        "install.packages(\"SnowballC\")\n",
        "library(SnowballC)\n",
        "word <- \"running\"\n",
        "stemmed_word <- wordStem(word)\n",
        "print(stemmed_word)\n"
      ],
      "metadata": {
        "colab": {
          "base_uri": "https://localhost:8080/"
        },
        "id": "4K80HQ4dvDl5",
        "outputId": "eaf9f8e4-20cf-4448-9592-d6e015c26684"
      },
      "execution_count": 17,
      "outputs": [
        {
          "output_type": "stream",
          "name": "stderr",
          "text": [
            "Installing package into ‘/usr/local/lib/R/site-library’\n",
            "(as ‘lib’ is unspecified)\n",
            "\n"
          ]
        },
        {
          "output_type": "stream",
          "name": "stdout",
          "text": [
            "[1] \"run\"\n"
          ]
        }
      ]
    },
    {
      "cell_type": "code",
      "source": [
        "install.packages(\"textstem\")\n",
        "library(textstem)\n",
        "word <- \"running\"\n",
        "lemmatized_word <- lemmatize_words(word)\n",
        "print(lemmatized_word)\n"
      ],
      "metadata": {
        "colab": {
          "base_uri": "https://localhost:8080/"
        },
        "id": "jBAUIM3RvFiB",
        "outputId": "0b287643-fd63-4872-ef2f-3557f97025cb"
      },
      "execution_count": 18,
      "outputs": [
        {
          "output_type": "stream",
          "name": "stderr",
          "text": [
            "Installing package into ‘/usr/local/lib/R/site-library’\n",
            "(as ‘lib’ is unspecified)\n",
            "\n",
            "also installing the dependency ‘quanteda’\n",
            "\n",
            "\n",
            "Loading required package: koRpus.lang.en\n",
            "\n",
            "Loading required package: koRpus\n",
            "\n",
            "Loading required package: sylly\n",
            "\n",
            "For information on available language packages for 'koRpus', run\n",
            "\n",
            "  available.koRpus.lang()\n",
            "\n",
            "and see ?install.koRpus.lang()\n",
            "\n",
            "\n",
            "\n",
            "Attaching package: ‘koRpus’\n",
            "\n",
            "\n",
            "The following object is masked from ‘package:tm’:\n",
            "\n",
            "    readTagged\n",
            "\n",
            "\n"
          ]
        },
        {
          "output_type": "stream",
          "name": "stdout",
          "text": [
            "[1] \"run\"\n"
          ]
        }
      ]
    },
    {
      "cell_type": "code",
      "source": [],
      "metadata": {
        "id": "-JqDnB48vJzv"
      },
      "execution_count": null,
      "outputs": []
    }
  ],
  "metadata": {
    "colab": {
      "provenance": [],
      "include_colab_link": true
    },
    "kernelspec": {
      "display_name": "R",
      "name": "ir"
    },
    "language_info": {
      "name": "R"
    }
  },
  "nbformat": 4,
  "nbformat_minor": 0
}