{
  "cells": [
    {
      "cell_type": "markdown",
      "metadata": {
        "id": "view-in-github",
        "colab_type": "text"
      },
      "source": [
        "<a href=\"https://colab.research.google.com/github/ni190304/DAV_44/blob/master/DAV_Exp1.ipynb\" target=\"_parent\"><img src=\"https://colab.research.google.com/assets/colab-badge.svg\" alt=\"Open In Colab\"/></a>"
      ]
    },
    {
      "cell_type": "markdown",
      "metadata": {
        "id": "RVkgBmJHwTqY"
      },
      "source": [
        "Experiment 1:"
      ]
    },
    {
      "cell_type": "markdown",
      "metadata": {
        "id": "_q7wM62DxmYU"
      },
      "source": [
        "Python Libraries:\n",
        "\n",
        "*   Pandas\n",
        "*   Numpy"
      ]
    },
    {
      "cell_type": "markdown",
      "metadata": {
        "id": "9gnEf0y6wbW-"
      },
      "source": [
        "**Pandas**:\n",
        "\n",
        "Pandas, an open-source data manipulation and analysis library for Python, plays a pivotal role in the data science ecosystem. Built on top of NumPy, it introduces two primary data structures - DataFrame and Series, simplifying the handling of structured data. Pandas facilitates tasks like data cleaning, exploration, and transformation through its versatile indexing, merging, and reshaping capabilities. It is instrumental in handling heterogeneous and labeled data, making it an essential tool for data preprocessing and analysis. Pandas integrates seamlessly with other Python libraries and is widely utilized in fields such as finance, statistics, and machine learning, contributing to its popularity in the data science community."
      ]
    },
    {
      "cell_type": "code",
      "execution_count": null,
      "metadata": {
        "id": "UGGUhyzLyDIO"
      },
      "outputs": [],
      "source": [
        "import pandas as pd\n",
        "import numpy as np\n"
      ]
    },
    {
      "cell_type": "code",
      "source": [
        "cars = pd.Series([\"BMW\",\"Audi\",\"Chevrolet\"])\n",
        "cars\n"
      ],
      "metadata": {
        "colab": {
          "base_uri": "https://localhost:8080/"
        },
        "id": "qpGCY3TnMxOx",
        "outputId": "14d70762-bd43-4291-f0f5-bf2b1c7f7a14"
      },
      "execution_count": null,
      "outputs": [
        {
          "output_type": "execute_result",
          "data": {
            "text/plain": [
              "0          BMW\n",
              "1         Audi\n",
              "2    Chevrolet\n",
              "dtype: object"
            ]
          },
          "metadata": {},
          "execution_count": 14
        }
      ]
    },
    {
      "cell_type": "code",
      "source": [
        "colors = pd.Series([\"Blue\",\"Grey\",\"Red\"])\n",
        "colors"
      ],
      "metadata": {
        "colab": {
          "base_uri": "https://localhost:8080/"
        },
        "id": "37xXnOfANG96",
        "outputId": "b8dee567-3ee6-4fc8-e207-41d0cc95c951"
      },
      "execution_count": null,
      "outputs": [
        {
          "output_type": "execute_result",
          "data": {
            "text/plain": [
              "0    Blue\n",
              "1    Grey\n",
              "2     Red\n",
              "dtype: object"
            ]
          },
          "metadata": {},
          "execution_count": 15
        }
      ]
    },
    {
      "cell_type": "code",
      "source": [
        "car_data = pd.DataFrame({\"Car\": cars, \"Color\": colors})\n",
        "car_data"
      ],
      "metadata": {
        "colab": {
          "base_uri": "https://localhost:8080/",
          "height": 143
        },
        "id": "Z1wboY-LMuvA",
        "outputId": "0c621581-622c-491e-ba52-aa5063633eb1"
      },
      "execution_count": null,
      "outputs": [
        {
          "output_type": "execute_result",
          "data": {
            "text/plain": [
              "         Car Color\n",
              "0        BMW  Blue\n",
              "1       Audi  Grey\n",
              "2  Chevrolet   Red"
            ],
            "text/html": [
              "\n",
              "  <div id=\"df-a87a28a5-ed35-4b6d-8a08-60a68d794d32\" class=\"colab-df-container\">\n",
              "    <div>\n",
              "<style scoped>\n",
              "    .dataframe tbody tr th:only-of-type {\n",
              "        vertical-align: middle;\n",
              "    }\n",
              "\n",
              "    .dataframe tbody tr th {\n",
              "        vertical-align: top;\n",
              "    }\n",
              "\n",
              "    .dataframe thead th {\n",
              "        text-align: right;\n",
              "    }\n",
              "</style>\n",
              "<table border=\"1\" class=\"dataframe\">\n",
              "  <thead>\n",
              "    <tr style=\"text-align: right;\">\n",
              "      <th></th>\n",
              "      <th>Car</th>\n",
              "      <th>Color</th>\n",
              "    </tr>\n",
              "  </thead>\n",
              "  <tbody>\n",
              "    <tr>\n",
              "      <th>0</th>\n",
              "      <td>BMW</td>\n",
              "      <td>Blue</td>\n",
              "    </tr>\n",
              "    <tr>\n",
              "      <th>1</th>\n",
              "      <td>Audi</td>\n",
              "      <td>Grey</td>\n",
              "    </tr>\n",
              "    <tr>\n",
              "      <th>2</th>\n",
              "      <td>Chevrolet</td>\n",
              "      <td>Red</td>\n",
              "    </tr>\n",
              "  </tbody>\n",
              "</table>\n",
              "</div>\n",
              "    <div class=\"colab-df-buttons\">\n",
              "\n",
              "  <div class=\"colab-df-container\">\n",
              "    <button class=\"colab-df-convert\" onclick=\"convertToInteractive('df-a87a28a5-ed35-4b6d-8a08-60a68d794d32')\"\n",
              "            title=\"Convert this dataframe to an interactive table.\"\n",
              "            style=\"display:none;\">\n",
              "\n",
              "  <svg xmlns=\"http://www.w3.org/2000/svg\" height=\"24px\" viewBox=\"0 -960 960 960\">\n",
              "    <path d=\"M120-120v-720h720v720H120Zm60-500h600v-160H180v160Zm220 220h160v-160H400v160Zm0 220h160v-160H400v160ZM180-400h160v-160H180v160Zm440 0h160v-160H620v160ZM180-180h160v-160H180v160Zm440 0h160v-160H620v160Z\"/>\n",
              "  </svg>\n",
              "    </button>\n",
              "\n",
              "  <style>\n",
              "    .colab-df-container {\n",
              "      display:flex;\n",
              "      gap: 12px;\n",
              "    }\n",
              "\n",
              "    .colab-df-convert {\n",
              "      background-color: #E8F0FE;\n",
              "      border: none;\n",
              "      border-radius: 50%;\n",
              "      cursor: pointer;\n",
              "      display: none;\n",
              "      fill: #1967D2;\n",
              "      height: 32px;\n",
              "      padding: 0 0 0 0;\n",
              "      width: 32px;\n",
              "    }\n",
              "\n",
              "    .colab-df-convert:hover {\n",
              "      background-color: #E2EBFA;\n",
              "      box-shadow: 0px 1px 2px rgba(60, 64, 67, 0.3), 0px 1px 3px 1px rgba(60, 64, 67, 0.15);\n",
              "      fill: #174EA6;\n",
              "    }\n",
              "\n",
              "    .colab-df-buttons div {\n",
              "      margin-bottom: 4px;\n",
              "    }\n",
              "\n",
              "    [theme=dark] .colab-df-convert {\n",
              "      background-color: #3B4455;\n",
              "      fill: #D2E3FC;\n",
              "    }\n",
              "\n",
              "    [theme=dark] .colab-df-convert:hover {\n",
              "      background-color: #434B5C;\n",
              "      box-shadow: 0px 1px 3px 1px rgba(0, 0, 0, 0.15);\n",
              "      filter: drop-shadow(0px 1px 2px rgba(0, 0, 0, 0.3));\n",
              "      fill: #FFFFFF;\n",
              "    }\n",
              "  </style>\n",
              "\n",
              "    <script>\n",
              "      const buttonEl =\n",
              "        document.querySelector('#df-a87a28a5-ed35-4b6d-8a08-60a68d794d32 button.colab-df-convert');\n",
              "      buttonEl.style.display =\n",
              "        google.colab.kernel.accessAllowed ? 'block' : 'none';\n",
              "\n",
              "      async function convertToInteractive(key) {\n",
              "        const element = document.querySelector('#df-a87a28a5-ed35-4b6d-8a08-60a68d794d32');\n",
              "        const dataTable =\n",
              "          await google.colab.kernel.invokeFunction('convertToInteractive',\n",
              "                                                    [key], {});\n",
              "        if (!dataTable) return;\n",
              "\n",
              "        const docLinkHtml = 'Like what you see? Visit the ' +\n",
              "          '<a target=\"_blank\" href=https://colab.research.google.com/notebooks/data_table.ipynb>data table notebook</a>'\n",
              "          + ' to learn more about interactive tables.';\n",
              "        element.innerHTML = '';\n",
              "        dataTable['output_type'] = 'display_data';\n",
              "        await google.colab.output.renderOutput(dataTable, element);\n",
              "        const docLink = document.createElement('div');\n",
              "        docLink.innerHTML = docLinkHtml;\n",
              "        element.appendChild(docLink);\n",
              "      }\n",
              "    </script>\n",
              "  </div>\n",
              "\n",
              "\n",
              "<div id=\"df-b511821d-69d2-434c-8689-b96253a62d3b\">\n",
              "  <button class=\"colab-df-quickchart\" onclick=\"quickchart('df-b511821d-69d2-434c-8689-b96253a62d3b')\"\n",
              "            title=\"Suggest charts\"\n",
              "            style=\"display:none;\">\n",
              "\n",
              "<svg xmlns=\"http://www.w3.org/2000/svg\" height=\"24px\"viewBox=\"0 0 24 24\"\n",
              "     width=\"24px\">\n",
              "    <g>\n",
              "        <path d=\"M19 3H5c-1.1 0-2 .9-2 2v14c0 1.1.9 2 2 2h14c1.1 0 2-.9 2-2V5c0-1.1-.9-2-2-2zM9 17H7v-7h2v7zm4 0h-2V7h2v10zm4 0h-2v-4h2v4z\"/>\n",
              "    </g>\n",
              "</svg>\n",
              "  </button>\n",
              "\n",
              "<style>\n",
              "  .colab-df-quickchart {\n",
              "      --bg-color: #E8F0FE;\n",
              "      --fill-color: #1967D2;\n",
              "      --hover-bg-color: #E2EBFA;\n",
              "      --hover-fill-color: #174EA6;\n",
              "      --disabled-fill-color: #AAA;\n",
              "      --disabled-bg-color: #DDD;\n",
              "  }\n",
              "\n",
              "  [theme=dark] .colab-df-quickchart {\n",
              "      --bg-color: #3B4455;\n",
              "      --fill-color: #D2E3FC;\n",
              "      --hover-bg-color: #434B5C;\n",
              "      --hover-fill-color: #FFFFFF;\n",
              "      --disabled-bg-color: #3B4455;\n",
              "      --disabled-fill-color: #666;\n",
              "  }\n",
              "\n",
              "  .colab-df-quickchart {\n",
              "    background-color: var(--bg-color);\n",
              "    border: none;\n",
              "    border-radius: 50%;\n",
              "    cursor: pointer;\n",
              "    display: none;\n",
              "    fill: var(--fill-color);\n",
              "    height: 32px;\n",
              "    padding: 0;\n",
              "    width: 32px;\n",
              "  }\n",
              "\n",
              "  .colab-df-quickchart:hover {\n",
              "    background-color: var(--hover-bg-color);\n",
              "    box-shadow: 0 1px 2px rgba(60, 64, 67, 0.3), 0 1px 3px 1px rgba(60, 64, 67, 0.15);\n",
              "    fill: var(--button-hover-fill-color);\n",
              "  }\n",
              "\n",
              "  .colab-df-quickchart-complete:disabled,\n",
              "  .colab-df-quickchart-complete:disabled:hover {\n",
              "    background-color: var(--disabled-bg-color);\n",
              "    fill: var(--disabled-fill-color);\n",
              "    box-shadow: none;\n",
              "  }\n",
              "\n",
              "  .colab-df-spinner {\n",
              "    border: 2px solid var(--fill-color);\n",
              "    border-color: transparent;\n",
              "    border-bottom-color: var(--fill-color);\n",
              "    animation:\n",
              "      spin 1s steps(1) infinite;\n",
              "  }\n",
              "\n",
              "  @keyframes spin {\n",
              "    0% {\n",
              "      border-color: transparent;\n",
              "      border-bottom-color: var(--fill-color);\n",
              "      border-left-color: var(--fill-color);\n",
              "    }\n",
              "    20% {\n",
              "      border-color: transparent;\n",
              "      border-left-color: var(--fill-color);\n",
              "      border-top-color: var(--fill-color);\n",
              "    }\n",
              "    30% {\n",
              "      border-color: transparent;\n",
              "      border-left-color: var(--fill-color);\n",
              "      border-top-color: var(--fill-color);\n",
              "      border-right-color: var(--fill-color);\n",
              "    }\n",
              "    40% {\n",
              "      border-color: transparent;\n",
              "      border-right-color: var(--fill-color);\n",
              "      border-top-color: var(--fill-color);\n",
              "    }\n",
              "    60% {\n",
              "      border-color: transparent;\n",
              "      border-right-color: var(--fill-color);\n",
              "    }\n",
              "    80% {\n",
              "      border-color: transparent;\n",
              "      border-right-color: var(--fill-color);\n",
              "      border-bottom-color: var(--fill-color);\n",
              "    }\n",
              "    90% {\n",
              "      border-color: transparent;\n",
              "      border-bottom-color: var(--fill-color);\n",
              "    }\n",
              "  }\n",
              "</style>\n",
              "\n",
              "  <script>\n",
              "    async function quickchart(key) {\n",
              "      const quickchartButtonEl =\n",
              "        document.querySelector('#' + key + ' button');\n",
              "      quickchartButtonEl.disabled = true;  // To prevent multiple clicks.\n",
              "      quickchartButtonEl.classList.add('colab-df-spinner');\n",
              "      try {\n",
              "        const charts = await google.colab.kernel.invokeFunction(\n",
              "            'suggestCharts', [key], {});\n",
              "      } catch (error) {\n",
              "        console.error('Error during call to suggestCharts:', error);\n",
              "      }\n",
              "      quickchartButtonEl.classList.remove('colab-df-spinner');\n",
              "      quickchartButtonEl.classList.add('colab-df-quickchart-complete');\n",
              "    }\n",
              "    (() => {\n",
              "      let quickchartButtonEl =\n",
              "        document.querySelector('#df-b511821d-69d2-434c-8689-b96253a62d3b button');\n",
              "      quickchartButtonEl.style.display =\n",
              "        google.colab.kernel.accessAllowed ? 'block' : 'none';\n",
              "    })();\n",
              "  </script>\n",
              "</div>\n",
              "\n",
              "  <div id=\"id_4655b9dd-14c0-433a-89cb-79fb86b22275\">\n",
              "    <style>\n",
              "      .colab-df-generate {\n",
              "        background-color: #E8F0FE;\n",
              "        border: none;\n",
              "        border-radius: 50%;\n",
              "        cursor: pointer;\n",
              "        display: none;\n",
              "        fill: #1967D2;\n",
              "        height: 32px;\n",
              "        padding: 0 0 0 0;\n",
              "        width: 32px;\n",
              "      }\n",
              "\n",
              "      .colab-df-generate:hover {\n",
              "        background-color: #E2EBFA;\n",
              "        box-shadow: 0px 1px 2px rgba(60, 64, 67, 0.3), 0px 1px 3px 1px rgba(60, 64, 67, 0.15);\n",
              "        fill: #174EA6;\n",
              "      }\n",
              "\n",
              "      [theme=dark] .colab-df-generate {\n",
              "        background-color: #3B4455;\n",
              "        fill: #D2E3FC;\n",
              "      }\n",
              "\n",
              "      [theme=dark] .colab-df-generate:hover {\n",
              "        background-color: #434B5C;\n",
              "        box-shadow: 0px 1px 3px 1px rgba(0, 0, 0, 0.15);\n",
              "        filter: drop-shadow(0px 1px 2px rgba(0, 0, 0, 0.3));\n",
              "        fill: #FFFFFF;\n",
              "      }\n",
              "    </style>\n",
              "    <button class=\"colab-df-generate\" onclick=\"generateWithVariable('car_data')\"\n",
              "            title=\"Generate code using this dataframe.\"\n",
              "            style=\"display:none;\">\n",
              "\n",
              "  <svg xmlns=\"http://www.w3.org/2000/svg\" height=\"24px\"viewBox=\"0 0 24 24\"\n",
              "       width=\"24px\">\n",
              "    <path d=\"M7,19H8.4L18.45,9,17,7.55,7,17.6ZM5,21V16.75L18.45,3.32a2,2,0,0,1,2.83,0l1.4,1.43a1.91,1.91,0,0,1,.58,1.4,1.91,1.91,0,0,1-.58,1.4L9.25,21ZM18.45,9,17,7.55Zm-12,3A5.31,5.31,0,0,0,4.9,8.1,5.31,5.31,0,0,0,1,6.5,5.31,5.31,0,0,0,4.9,4.9,5.31,5.31,0,0,0,6.5,1,5.31,5.31,0,0,0,8.1,4.9,5.31,5.31,0,0,0,12,6.5,5.46,5.46,0,0,0,6.5,12Z\"/>\n",
              "  </svg>\n",
              "    </button>\n",
              "    <script>\n",
              "      (() => {\n",
              "      const buttonEl =\n",
              "        document.querySelector('#id_4655b9dd-14c0-433a-89cb-79fb86b22275 button.colab-df-generate');\n",
              "      buttonEl.style.display =\n",
              "        google.colab.kernel.accessAllowed ? 'block' : 'none';\n",
              "\n",
              "      buttonEl.onclick = () => {\n",
              "        google.colab.notebook.generateWithVariable('car_data');\n",
              "      }\n",
              "      })();\n",
              "    </script>\n",
              "  </div>\n",
              "\n",
              "    </div>\n",
              "  </div>\n"
            ]
          },
          "metadata": {},
          "execution_count": 16
        }
      ]
    },
    {
      "cell_type": "code",
      "execution_count": null,
      "metadata": {
        "id": "UWaCIvrG1BRw",
        "colab": {
          "base_uri": "https://localhost:8080/",
          "height": 622
        },
        "outputId": "733f1f4d-c36c-4753-c342-f467b6ff2110"
      },
      "outputs": [
        {
          "output_type": "execute_result",
          "data": {
            "text/plain": [
              "   VIN (1-10)     County     City State  Postal Code  Model Year    Make  \\\n",
              "0  3C3CFFGE4E     Yakima   Yakima    WA      98902.0        2014    FIAT   \n",
              "1  5YJXCBE40H   Thurston  Olympia    WA      98513.0        2017   TESLA   \n",
              "2  3MW39FS03P       King   Renton    WA      98058.0        2023     BMW   \n",
              "3  7PDSGABA8P  Snohomish  Bothell    WA      98012.0        2023  RIVIAN   \n",
              "4  5YJ3E1EB8L       King     Kent    WA      98031.0        2020   TESLA   \n",
              "\n",
              "     Model                   Electric Vehicle Type  \\\n",
              "0      500          Battery Electric Vehicle (BEV)   \n",
              "1  MODEL X          Battery Electric Vehicle (BEV)   \n",
              "2     330E  Plug-in Hybrid Electric Vehicle (PHEV)   \n",
              "3      R1S          Battery Electric Vehicle (BEV)   \n",
              "4  MODEL 3          Battery Electric Vehicle (BEV)   \n",
              "\n",
              "   Clean Alternative Fuel Vehicle (CAFV) Eligibility  Electric Range  \\\n",
              "0            Clean Alternative Fuel Vehicle Eligible              87   \n",
              "1            Clean Alternative Fuel Vehicle Eligible             200   \n",
              "2              Not eligible due to low battery range              20   \n",
              "3  Eligibility unknown as battery range has not b...               0   \n",
              "4            Clean Alternative Fuel Vehicle Eligible             322   \n",
              "\n",
              "   Base MSRP  Legislative District  DOL Vehicle ID  \\\n",
              "0          0                  14.0         1593721   \n",
              "1          0                   2.0       257167501   \n",
              "2          0                  11.0       224071816   \n",
              "3          0                  21.0       260084653   \n",
              "4          0                  33.0       253771913   \n",
              "\n",
              "                  Vehicle Location  \\\n",
              "0   POINT (-120.524012 46.5973939)   \n",
              "1     POINT (-122.817545 46.98876)   \n",
              "2  POINT (-122.1298876 47.4451257)   \n",
              "3      POINT (-122.1873 47.820245)   \n",
              "4  POINT (-122.2012521 47.3931814)   \n",
              "\n",
              "                                Electric Utility  2020 Census Tract  \n",
              "0                                     PACIFICORP       5.307700e+10  \n",
              "1                         PUGET SOUND ENERGY INC       5.306701e+10  \n",
              "2  PUGET SOUND ENERGY INC||CITY OF TACOMA - (WA)       5.303303e+10  \n",
              "3                         PUGET SOUND ENERGY INC       5.306105e+10  \n",
              "4  PUGET SOUND ENERGY INC||CITY OF TACOMA - (WA)       5.303303e+10  "
            ],
            "text/html": [
              "\n",
              "  <div id=\"df-83092f5f-6d6d-4378-a63a-7be38be5bbbc\" class=\"colab-df-container\">\n",
              "    <div>\n",
              "<style scoped>\n",
              "    .dataframe tbody tr th:only-of-type {\n",
              "        vertical-align: middle;\n",
              "    }\n",
              "\n",
              "    .dataframe tbody tr th {\n",
              "        vertical-align: top;\n",
              "    }\n",
              "\n",
              "    .dataframe thead th {\n",
              "        text-align: right;\n",
              "    }\n",
              "</style>\n",
              "<table border=\"1\" class=\"dataframe\">\n",
              "  <thead>\n",
              "    <tr style=\"text-align: right;\">\n",
              "      <th></th>\n",
              "      <th>VIN (1-10)</th>\n",
              "      <th>County</th>\n",
              "      <th>City</th>\n",
              "      <th>State</th>\n",
              "      <th>Postal Code</th>\n",
              "      <th>Model Year</th>\n",
              "      <th>Make</th>\n",
              "      <th>Model</th>\n",
              "      <th>Electric Vehicle Type</th>\n",
              "      <th>Clean Alternative Fuel Vehicle (CAFV) Eligibility</th>\n",
              "      <th>Electric Range</th>\n",
              "      <th>Base MSRP</th>\n",
              "      <th>Legislative District</th>\n",
              "      <th>DOL Vehicle ID</th>\n",
              "      <th>Vehicle Location</th>\n",
              "      <th>Electric Utility</th>\n",
              "      <th>2020 Census Tract</th>\n",
              "    </tr>\n",
              "  </thead>\n",
              "  <tbody>\n",
              "    <tr>\n",
              "      <th>0</th>\n",
              "      <td>3C3CFFGE4E</td>\n",
              "      <td>Yakima</td>\n",
              "      <td>Yakima</td>\n",
              "      <td>WA</td>\n",
              "      <td>98902.0</td>\n",
              "      <td>2014</td>\n",
              "      <td>FIAT</td>\n",
              "      <td>500</td>\n",
              "      <td>Battery Electric Vehicle (BEV)</td>\n",
              "      <td>Clean Alternative Fuel Vehicle Eligible</td>\n",
              "      <td>87</td>\n",
              "      <td>0</td>\n",
              "      <td>14.0</td>\n",
              "      <td>1593721</td>\n",
              "      <td>POINT (-120.524012 46.5973939)</td>\n",
              "      <td>PACIFICORP</td>\n",
              "      <td>5.307700e+10</td>\n",
              "    </tr>\n",
              "    <tr>\n",
              "      <th>1</th>\n",
              "      <td>5YJXCBE40H</td>\n",
              "      <td>Thurston</td>\n",
              "      <td>Olympia</td>\n",
              "      <td>WA</td>\n",
              "      <td>98513.0</td>\n",
              "      <td>2017</td>\n",
              "      <td>TESLA</td>\n",
              "      <td>MODEL X</td>\n",
              "      <td>Battery Electric Vehicle (BEV)</td>\n",
              "      <td>Clean Alternative Fuel Vehicle Eligible</td>\n",
              "      <td>200</td>\n",
              "      <td>0</td>\n",
              "      <td>2.0</td>\n",
              "      <td>257167501</td>\n",
              "      <td>POINT (-122.817545 46.98876)</td>\n",
              "      <td>PUGET SOUND ENERGY INC</td>\n",
              "      <td>5.306701e+10</td>\n",
              "    </tr>\n",
              "    <tr>\n",
              "      <th>2</th>\n",
              "      <td>3MW39FS03P</td>\n",
              "      <td>King</td>\n",
              "      <td>Renton</td>\n",
              "      <td>WA</td>\n",
              "      <td>98058.0</td>\n",
              "      <td>2023</td>\n",
              "      <td>BMW</td>\n",
              "      <td>330E</td>\n",
              "      <td>Plug-in Hybrid Electric Vehicle (PHEV)</td>\n",
              "      <td>Not eligible due to low battery range</td>\n",
              "      <td>20</td>\n",
              "      <td>0</td>\n",
              "      <td>11.0</td>\n",
              "      <td>224071816</td>\n",
              "      <td>POINT (-122.1298876 47.4451257)</td>\n",
              "      <td>PUGET SOUND ENERGY INC||CITY OF TACOMA - (WA)</td>\n",
              "      <td>5.303303e+10</td>\n",
              "    </tr>\n",
              "    <tr>\n",
              "      <th>3</th>\n",
              "      <td>7PDSGABA8P</td>\n",
              "      <td>Snohomish</td>\n",
              "      <td>Bothell</td>\n",
              "      <td>WA</td>\n",
              "      <td>98012.0</td>\n",
              "      <td>2023</td>\n",
              "      <td>RIVIAN</td>\n",
              "      <td>R1S</td>\n",
              "      <td>Battery Electric Vehicle (BEV)</td>\n",
              "      <td>Eligibility unknown as battery range has not b...</td>\n",
              "      <td>0</td>\n",
              "      <td>0</td>\n",
              "      <td>21.0</td>\n",
              "      <td>260084653</td>\n",
              "      <td>POINT (-122.1873 47.820245)</td>\n",
              "      <td>PUGET SOUND ENERGY INC</td>\n",
              "      <td>5.306105e+10</td>\n",
              "    </tr>\n",
              "    <tr>\n",
              "      <th>4</th>\n",
              "      <td>5YJ3E1EB8L</td>\n",
              "      <td>King</td>\n",
              "      <td>Kent</td>\n",
              "      <td>WA</td>\n",
              "      <td>98031.0</td>\n",
              "      <td>2020</td>\n",
              "      <td>TESLA</td>\n",
              "      <td>MODEL 3</td>\n",
              "      <td>Battery Electric Vehicle (BEV)</td>\n",
              "      <td>Clean Alternative Fuel Vehicle Eligible</td>\n",
              "      <td>322</td>\n",
              "      <td>0</td>\n",
              "      <td>33.0</td>\n",
              "      <td>253771913</td>\n",
              "      <td>POINT (-122.2012521 47.3931814)</td>\n",
              "      <td>PUGET SOUND ENERGY INC||CITY OF TACOMA - (WA)</td>\n",
              "      <td>5.303303e+10</td>\n",
              "    </tr>\n",
              "  </tbody>\n",
              "</table>\n",
              "</div>\n",
              "    <div class=\"colab-df-buttons\">\n",
              "\n",
              "  <div class=\"colab-df-container\">\n",
              "    <button class=\"colab-df-convert\" onclick=\"convertToInteractive('df-83092f5f-6d6d-4378-a63a-7be38be5bbbc')\"\n",
              "            title=\"Convert this dataframe to an interactive table.\"\n",
              "            style=\"display:none;\">\n",
              "\n",
              "  <svg xmlns=\"http://www.w3.org/2000/svg\" height=\"24px\" viewBox=\"0 -960 960 960\">\n",
              "    <path d=\"M120-120v-720h720v720H120Zm60-500h600v-160H180v160Zm220 220h160v-160H400v160Zm0 220h160v-160H400v160ZM180-400h160v-160H180v160Zm440 0h160v-160H620v160ZM180-180h160v-160H180v160Zm440 0h160v-160H620v160Z\"/>\n",
              "  </svg>\n",
              "    </button>\n",
              "\n",
              "  <style>\n",
              "    .colab-df-container {\n",
              "      display:flex;\n",
              "      gap: 12px;\n",
              "    }\n",
              "\n",
              "    .colab-df-convert {\n",
              "      background-color: #E8F0FE;\n",
              "      border: none;\n",
              "      border-radius: 50%;\n",
              "      cursor: pointer;\n",
              "      display: none;\n",
              "      fill: #1967D2;\n",
              "      height: 32px;\n",
              "      padding: 0 0 0 0;\n",
              "      width: 32px;\n",
              "    }\n",
              "\n",
              "    .colab-df-convert:hover {\n",
              "      background-color: #E2EBFA;\n",
              "      box-shadow: 0px 1px 2px rgba(60, 64, 67, 0.3), 0px 1px 3px 1px rgba(60, 64, 67, 0.15);\n",
              "      fill: #174EA6;\n",
              "    }\n",
              "\n",
              "    .colab-df-buttons div {\n",
              "      margin-bottom: 4px;\n",
              "    }\n",
              "\n",
              "    [theme=dark] .colab-df-convert {\n",
              "      background-color: #3B4455;\n",
              "      fill: #D2E3FC;\n",
              "    }\n",
              "\n",
              "    [theme=dark] .colab-df-convert:hover {\n",
              "      background-color: #434B5C;\n",
              "      box-shadow: 0px 1px 3px 1px rgba(0, 0, 0, 0.15);\n",
              "      filter: drop-shadow(0px 1px 2px rgba(0, 0, 0, 0.3));\n",
              "      fill: #FFFFFF;\n",
              "    }\n",
              "  </style>\n",
              "\n",
              "    <script>\n",
              "      const buttonEl =\n",
              "        document.querySelector('#df-83092f5f-6d6d-4378-a63a-7be38be5bbbc button.colab-df-convert');\n",
              "      buttonEl.style.display =\n",
              "        google.colab.kernel.accessAllowed ? 'block' : 'none';\n",
              "\n",
              "      async function convertToInteractive(key) {\n",
              "        const element = document.querySelector('#df-83092f5f-6d6d-4378-a63a-7be38be5bbbc');\n",
              "        const dataTable =\n",
              "          await google.colab.kernel.invokeFunction('convertToInteractive',\n",
              "                                                    [key], {});\n",
              "        if (!dataTable) return;\n",
              "\n",
              "        const docLinkHtml = 'Like what you see? Visit the ' +\n",
              "          '<a target=\"_blank\" href=https://colab.research.google.com/notebooks/data_table.ipynb>data table notebook</a>'\n",
              "          + ' to learn more about interactive tables.';\n",
              "        element.innerHTML = '';\n",
              "        dataTable['output_type'] = 'display_data';\n",
              "        await google.colab.output.renderOutput(dataTable, element);\n",
              "        const docLink = document.createElement('div');\n",
              "        docLink.innerHTML = docLinkHtml;\n",
              "        element.appendChild(docLink);\n",
              "      }\n",
              "    </script>\n",
              "  </div>\n",
              "\n",
              "\n",
              "<div id=\"df-9cf9d393-8ba3-4cc7-95ef-a893c7bff3a6\">\n",
              "  <button class=\"colab-df-quickchart\" onclick=\"quickchart('df-9cf9d393-8ba3-4cc7-95ef-a893c7bff3a6')\"\n",
              "            title=\"Suggest charts\"\n",
              "            style=\"display:none;\">\n",
              "\n",
              "<svg xmlns=\"http://www.w3.org/2000/svg\" height=\"24px\"viewBox=\"0 0 24 24\"\n",
              "     width=\"24px\">\n",
              "    <g>\n",
              "        <path d=\"M19 3H5c-1.1 0-2 .9-2 2v14c0 1.1.9 2 2 2h14c1.1 0 2-.9 2-2V5c0-1.1-.9-2-2-2zM9 17H7v-7h2v7zm4 0h-2V7h2v10zm4 0h-2v-4h2v4z\"/>\n",
              "    </g>\n",
              "</svg>\n",
              "  </button>\n",
              "\n",
              "<style>\n",
              "  .colab-df-quickchart {\n",
              "      --bg-color: #E8F0FE;\n",
              "      --fill-color: #1967D2;\n",
              "      --hover-bg-color: #E2EBFA;\n",
              "      --hover-fill-color: #174EA6;\n",
              "      --disabled-fill-color: #AAA;\n",
              "      --disabled-bg-color: #DDD;\n",
              "  }\n",
              "\n",
              "  [theme=dark] .colab-df-quickchart {\n",
              "      --bg-color: #3B4455;\n",
              "      --fill-color: #D2E3FC;\n",
              "      --hover-bg-color: #434B5C;\n",
              "      --hover-fill-color: #FFFFFF;\n",
              "      --disabled-bg-color: #3B4455;\n",
              "      --disabled-fill-color: #666;\n",
              "  }\n",
              "\n",
              "  .colab-df-quickchart {\n",
              "    background-color: var(--bg-color);\n",
              "    border: none;\n",
              "    border-radius: 50%;\n",
              "    cursor: pointer;\n",
              "    display: none;\n",
              "    fill: var(--fill-color);\n",
              "    height: 32px;\n",
              "    padding: 0;\n",
              "    width: 32px;\n",
              "  }\n",
              "\n",
              "  .colab-df-quickchart:hover {\n",
              "    background-color: var(--hover-bg-color);\n",
              "    box-shadow: 0 1px 2px rgba(60, 64, 67, 0.3), 0 1px 3px 1px rgba(60, 64, 67, 0.15);\n",
              "    fill: var(--button-hover-fill-color);\n",
              "  }\n",
              "\n",
              "  .colab-df-quickchart-complete:disabled,\n",
              "  .colab-df-quickchart-complete:disabled:hover {\n",
              "    background-color: var(--disabled-bg-color);\n",
              "    fill: var(--disabled-fill-color);\n",
              "    box-shadow: none;\n",
              "  }\n",
              "\n",
              "  .colab-df-spinner {\n",
              "    border: 2px solid var(--fill-color);\n",
              "    border-color: transparent;\n",
              "    border-bottom-color: var(--fill-color);\n",
              "    animation:\n",
              "      spin 1s steps(1) infinite;\n",
              "  }\n",
              "\n",
              "  @keyframes spin {\n",
              "    0% {\n",
              "      border-color: transparent;\n",
              "      border-bottom-color: var(--fill-color);\n",
              "      border-left-color: var(--fill-color);\n",
              "    }\n",
              "    20% {\n",
              "      border-color: transparent;\n",
              "      border-left-color: var(--fill-color);\n",
              "      border-top-color: var(--fill-color);\n",
              "    }\n",
              "    30% {\n",
              "      border-color: transparent;\n",
              "      border-left-color: var(--fill-color);\n",
              "      border-top-color: var(--fill-color);\n",
              "      border-right-color: var(--fill-color);\n",
              "    }\n",
              "    40% {\n",
              "      border-color: transparent;\n",
              "      border-right-color: var(--fill-color);\n",
              "      border-top-color: var(--fill-color);\n",
              "    }\n",
              "    60% {\n",
              "      border-color: transparent;\n",
              "      border-right-color: var(--fill-color);\n",
              "    }\n",
              "    80% {\n",
              "      border-color: transparent;\n",
              "      border-right-color: var(--fill-color);\n",
              "      border-bottom-color: var(--fill-color);\n",
              "    }\n",
              "    90% {\n",
              "      border-color: transparent;\n",
              "      border-bottom-color: var(--fill-color);\n",
              "    }\n",
              "  }\n",
              "</style>\n",
              "\n",
              "  <script>\n",
              "    async function quickchart(key) {\n",
              "      const quickchartButtonEl =\n",
              "        document.querySelector('#' + key + ' button');\n",
              "      quickchartButtonEl.disabled = true;  // To prevent multiple clicks.\n",
              "      quickchartButtonEl.classList.add('colab-df-spinner');\n",
              "      try {\n",
              "        const charts = await google.colab.kernel.invokeFunction(\n",
              "            'suggestCharts', [key], {});\n",
              "      } catch (error) {\n",
              "        console.error('Error during call to suggestCharts:', error);\n",
              "      }\n",
              "      quickchartButtonEl.classList.remove('colab-df-spinner');\n",
              "      quickchartButtonEl.classList.add('colab-df-quickchart-complete');\n",
              "    }\n",
              "    (() => {\n",
              "      let quickchartButtonEl =\n",
              "        document.querySelector('#df-9cf9d393-8ba3-4cc7-95ef-a893c7bff3a6 button');\n",
              "      quickchartButtonEl.style.display =\n",
              "        google.colab.kernel.accessAllowed ? 'block' : 'none';\n",
              "    })();\n",
              "  </script>\n",
              "</div>\n",
              "\n",
              "    </div>\n",
              "  </div>\n"
            ]
          },
          "metadata": {},
          "execution_count": 11
        }
      ],
      "source": [
        "dataset = pd.read_csv('/content/drive/MyDrive/Electric_Vehicle_Population_Data.csv')\n",
        "\n",
        "dataset.head()"
      ]
    },
    {
      "cell_type": "markdown",
      "source": [
        "# Data Description"
      ],
      "metadata": {
        "id": "rdgvmTkvN285"
      }
    },
    {
      "cell_type": "code",
      "source": [
        "dataset.info()"
      ],
      "metadata": {
        "colab": {
          "base_uri": "https://localhost:8080/"
        },
        "id": "dIgyTT3pMQnF",
        "outputId": "1448b300-bc25-4649-87f6-a14eb0e42e2e"
      },
      "execution_count": null,
      "outputs": [
        {
          "output_type": "stream",
          "name": "stdout",
          "text": [
            "<class 'pandas.core.frame.DataFrame'>\n",
            "RangeIndex: 166800 entries, 0 to 166799\n",
            "Data columns (total 17 columns):\n",
            " #   Column                                             Non-Null Count   Dtype  \n",
            "---  ------                                             --------------   -----  \n",
            " 0   VIN (1-10)                                         166800 non-null  object \n",
            " 1   County                                             166795 non-null  object \n",
            " 2   City                                               166795 non-null  object \n",
            " 3   State                                              166800 non-null  object \n",
            " 4   Postal Code                                        166795 non-null  float64\n",
            " 5   Model Year                                         166800 non-null  int64  \n",
            " 6   Make                                               166800 non-null  object \n",
            " 7   Model                                              166800 non-null  object \n",
            " 8   Electric Vehicle Type                              166800 non-null  object \n",
            " 9   Clean Alternative Fuel Vehicle (CAFV) Eligibility  166800 non-null  object \n",
            " 10  Electric Range                                     166800 non-null  int64  \n",
            " 11  Base MSRP                                          166800 non-null  int64  \n",
            " 12  Legislative District                               166440 non-null  float64\n",
            " 13  DOL Vehicle ID                                     166800 non-null  int64  \n",
            " 14  Vehicle Location                                   166790 non-null  object \n",
            " 15  Electric Utility                                   166795 non-null  object \n",
            " 16  2020 Census Tract                                  166795 non-null  float64\n",
            "dtypes: float64(3), int64(4), object(10)\n",
            "memory usage: 21.6+ MB\n"
          ]
        }
      ]
    },
    {
      "cell_type": "code",
      "source": [
        "dataset.describe()"
      ],
      "metadata": {
        "colab": {
          "base_uri": "https://localhost:8080/",
          "height": 300
        },
        "id": "JJt0am6yNcex",
        "outputId": "daa9eb6f-a745-41a3-959e-c4e4840a9a2b"
      },
      "execution_count": null,
      "outputs": [
        {
          "output_type": "execute_result",
          "data": {
            "text/plain": [
              "         Postal Code     Model Year  Electric Range      Base MSRP  \\\n",
              "count  166795.000000  166800.000000   166800.000000  166800.000000   \n",
              "mean    98173.713750    2020.341793       61.508993    1152.723171   \n",
              "std      2442.584415       3.001465       93.271747    8661.081091   \n",
              "min      1730.000000    1997.000000        0.000000       0.000000   \n",
              "25%     98052.000000    2018.000000        0.000000       0.000000   \n",
              "50%     98122.000000    2021.000000        0.000000       0.000000   \n",
              "75%     98371.000000    2023.000000       84.000000       0.000000   \n",
              "max     99577.000000    2024.000000      337.000000  845000.000000   \n",
              "\n",
              "       Legislative District  DOL Vehicle ID  2020 Census Tract  \n",
              "count         166440.000000    1.668000e+05       1.667950e+05  \n",
              "mean              29.178941    2.172420e+08       5.297709e+10  \n",
              "std               14.853534    7.727458e+07       1.569754e+09  \n",
              "min                1.000000    4.385000e+03       1.001020e+09  \n",
              "25%               18.000000    1.790741e+08       5.303301e+10  \n",
              "50%               33.000000    2.244045e+08       5.303303e+10  \n",
              "75%               42.000000    2.513421e+08       5.305307e+10  \n",
              "max               49.000000    4.792548e+08       5.603300e+10  "
            ],
            "text/html": [
              "\n",
              "  <div id=\"df-54352ca8-fc5b-4fef-85f3-ba56c31cbae1\" class=\"colab-df-container\">\n",
              "    <div>\n",
              "<style scoped>\n",
              "    .dataframe tbody tr th:only-of-type {\n",
              "        vertical-align: middle;\n",
              "    }\n",
              "\n",
              "    .dataframe tbody tr th {\n",
              "        vertical-align: top;\n",
              "    }\n",
              "\n",
              "    .dataframe thead th {\n",
              "        text-align: right;\n",
              "    }\n",
              "</style>\n",
              "<table border=\"1\" class=\"dataframe\">\n",
              "  <thead>\n",
              "    <tr style=\"text-align: right;\">\n",
              "      <th></th>\n",
              "      <th>Postal Code</th>\n",
              "      <th>Model Year</th>\n",
              "      <th>Electric Range</th>\n",
              "      <th>Base MSRP</th>\n",
              "      <th>Legislative District</th>\n",
              "      <th>DOL Vehicle ID</th>\n",
              "      <th>2020 Census Tract</th>\n",
              "    </tr>\n",
              "  </thead>\n",
              "  <tbody>\n",
              "    <tr>\n",
              "      <th>count</th>\n",
              "      <td>166795.000000</td>\n",
              "      <td>166800.000000</td>\n",
              "      <td>166800.000000</td>\n",
              "      <td>166800.000000</td>\n",
              "      <td>166440.000000</td>\n",
              "      <td>1.668000e+05</td>\n",
              "      <td>1.667950e+05</td>\n",
              "    </tr>\n",
              "    <tr>\n",
              "      <th>mean</th>\n",
              "      <td>98173.713750</td>\n",
              "      <td>2020.341793</td>\n",
              "      <td>61.508993</td>\n",
              "      <td>1152.723171</td>\n",
              "      <td>29.178941</td>\n",
              "      <td>2.172420e+08</td>\n",
              "      <td>5.297709e+10</td>\n",
              "    </tr>\n",
              "    <tr>\n",
              "      <th>std</th>\n",
              "      <td>2442.584415</td>\n",
              "      <td>3.001465</td>\n",
              "      <td>93.271747</td>\n",
              "      <td>8661.081091</td>\n",
              "      <td>14.853534</td>\n",
              "      <td>7.727458e+07</td>\n",
              "      <td>1.569754e+09</td>\n",
              "    </tr>\n",
              "    <tr>\n",
              "      <th>min</th>\n",
              "      <td>1730.000000</td>\n",
              "      <td>1997.000000</td>\n",
              "      <td>0.000000</td>\n",
              "      <td>0.000000</td>\n",
              "      <td>1.000000</td>\n",
              "      <td>4.385000e+03</td>\n",
              "      <td>1.001020e+09</td>\n",
              "    </tr>\n",
              "    <tr>\n",
              "      <th>25%</th>\n",
              "      <td>98052.000000</td>\n",
              "      <td>2018.000000</td>\n",
              "      <td>0.000000</td>\n",
              "      <td>0.000000</td>\n",
              "      <td>18.000000</td>\n",
              "      <td>1.790741e+08</td>\n",
              "      <td>5.303301e+10</td>\n",
              "    </tr>\n",
              "    <tr>\n",
              "      <th>50%</th>\n",
              "      <td>98122.000000</td>\n",
              "      <td>2021.000000</td>\n",
              "      <td>0.000000</td>\n",
              "      <td>0.000000</td>\n",
              "      <td>33.000000</td>\n",
              "      <td>2.244045e+08</td>\n",
              "      <td>5.303303e+10</td>\n",
              "    </tr>\n",
              "    <tr>\n",
              "      <th>75%</th>\n",
              "      <td>98371.000000</td>\n",
              "      <td>2023.000000</td>\n",
              "      <td>84.000000</td>\n",
              "      <td>0.000000</td>\n",
              "      <td>42.000000</td>\n",
              "      <td>2.513421e+08</td>\n",
              "      <td>5.305307e+10</td>\n",
              "    </tr>\n",
              "    <tr>\n",
              "      <th>max</th>\n",
              "      <td>99577.000000</td>\n",
              "      <td>2024.000000</td>\n",
              "      <td>337.000000</td>\n",
              "      <td>845000.000000</td>\n",
              "      <td>49.000000</td>\n",
              "      <td>4.792548e+08</td>\n",
              "      <td>5.603300e+10</td>\n",
              "    </tr>\n",
              "  </tbody>\n",
              "</table>\n",
              "</div>\n",
              "    <div class=\"colab-df-buttons\">\n",
              "\n",
              "  <div class=\"colab-df-container\">\n",
              "    <button class=\"colab-df-convert\" onclick=\"convertToInteractive('df-54352ca8-fc5b-4fef-85f3-ba56c31cbae1')\"\n",
              "            title=\"Convert this dataframe to an interactive table.\"\n",
              "            style=\"display:none;\">\n",
              "\n",
              "  <svg xmlns=\"http://www.w3.org/2000/svg\" height=\"24px\" viewBox=\"0 -960 960 960\">\n",
              "    <path d=\"M120-120v-720h720v720H120Zm60-500h600v-160H180v160Zm220 220h160v-160H400v160Zm0 220h160v-160H400v160ZM180-400h160v-160H180v160Zm440 0h160v-160H620v160ZM180-180h160v-160H180v160Zm440 0h160v-160H620v160Z\"/>\n",
              "  </svg>\n",
              "    </button>\n",
              "\n",
              "  <style>\n",
              "    .colab-df-container {\n",
              "      display:flex;\n",
              "      gap: 12px;\n",
              "    }\n",
              "\n",
              "    .colab-df-convert {\n",
              "      background-color: #E8F0FE;\n",
              "      border: none;\n",
              "      border-radius: 50%;\n",
              "      cursor: pointer;\n",
              "      display: none;\n",
              "      fill: #1967D2;\n",
              "      height: 32px;\n",
              "      padding: 0 0 0 0;\n",
              "      width: 32px;\n",
              "    }\n",
              "\n",
              "    .colab-df-convert:hover {\n",
              "      background-color: #E2EBFA;\n",
              "      box-shadow: 0px 1px 2px rgba(60, 64, 67, 0.3), 0px 1px 3px 1px rgba(60, 64, 67, 0.15);\n",
              "      fill: #174EA6;\n",
              "    }\n",
              "\n",
              "    .colab-df-buttons div {\n",
              "      margin-bottom: 4px;\n",
              "    }\n",
              "\n",
              "    [theme=dark] .colab-df-convert {\n",
              "      background-color: #3B4455;\n",
              "      fill: #D2E3FC;\n",
              "    }\n",
              "\n",
              "    [theme=dark] .colab-df-convert:hover {\n",
              "      background-color: #434B5C;\n",
              "      box-shadow: 0px 1px 3px 1px rgba(0, 0, 0, 0.15);\n",
              "      filter: drop-shadow(0px 1px 2px rgba(0, 0, 0, 0.3));\n",
              "      fill: #FFFFFF;\n",
              "    }\n",
              "  </style>\n",
              "\n",
              "    <script>\n",
              "      const buttonEl =\n",
              "        document.querySelector('#df-54352ca8-fc5b-4fef-85f3-ba56c31cbae1 button.colab-df-convert');\n",
              "      buttonEl.style.display =\n",
              "        google.colab.kernel.accessAllowed ? 'block' : 'none';\n",
              "\n",
              "      async function convertToInteractive(key) {\n",
              "        const element = document.querySelector('#df-54352ca8-fc5b-4fef-85f3-ba56c31cbae1');\n",
              "        const dataTable =\n",
              "          await google.colab.kernel.invokeFunction('convertToInteractive',\n",
              "                                                    [key], {});\n",
              "        if (!dataTable) return;\n",
              "\n",
              "        const docLinkHtml = 'Like what you see? Visit the ' +\n",
              "          '<a target=\"_blank\" href=https://colab.research.google.com/notebooks/data_table.ipynb>data table notebook</a>'\n",
              "          + ' to learn more about interactive tables.';\n",
              "        element.innerHTML = '';\n",
              "        dataTable['output_type'] = 'display_data';\n",
              "        await google.colab.output.renderOutput(dataTable, element);\n",
              "        const docLink = document.createElement('div');\n",
              "        docLink.innerHTML = docLinkHtml;\n",
              "        element.appendChild(docLink);\n",
              "      }\n",
              "    </script>\n",
              "  </div>\n",
              "\n",
              "\n",
              "<div id=\"df-00179872-cad0-46b0-b9c0-01af12e5218d\">\n",
              "  <button class=\"colab-df-quickchart\" onclick=\"quickchart('df-00179872-cad0-46b0-b9c0-01af12e5218d')\"\n",
              "            title=\"Suggest charts\"\n",
              "            style=\"display:none;\">\n",
              "\n",
              "<svg xmlns=\"http://www.w3.org/2000/svg\" height=\"24px\"viewBox=\"0 0 24 24\"\n",
              "     width=\"24px\">\n",
              "    <g>\n",
              "        <path d=\"M19 3H5c-1.1 0-2 .9-2 2v14c0 1.1.9 2 2 2h14c1.1 0 2-.9 2-2V5c0-1.1-.9-2-2-2zM9 17H7v-7h2v7zm4 0h-2V7h2v10zm4 0h-2v-4h2v4z\"/>\n",
              "    </g>\n",
              "</svg>\n",
              "  </button>\n",
              "\n",
              "<style>\n",
              "  .colab-df-quickchart {\n",
              "      --bg-color: #E8F0FE;\n",
              "      --fill-color: #1967D2;\n",
              "      --hover-bg-color: #E2EBFA;\n",
              "      --hover-fill-color: #174EA6;\n",
              "      --disabled-fill-color: #AAA;\n",
              "      --disabled-bg-color: #DDD;\n",
              "  }\n",
              "\n",
              "  [theme=dark] .colab-df-quickchart {\n",
              "      --bg-color: #3B4455;\n",
              "      --fill-color: #D2E3FC;\n",
              "      --hover-bg-color: #434B5C;\n",
              "      --hover-fill-color: #FFFFFF;\n",
              "      --disabled-bg-color: #3B4455;\n",
              "      --disabled-fill-color: #666;\n",
              "  }\n",
              "\n",
              "  .colab-df-quickchart {\n",
              "    background-color: var(--bg-color);\n",
              "    border: none;\n",
              "    border-radius: 50%;\n",
              "    cursor: pointer;\n",
              "    display: none;\n",
              "    fill: var(--fill-color);\n",
              "    height: 32px;\n",
              "    padding: 0;\n",
              "    width: 32px;\n",
              "  }\n",
              "\n",
              "  .colab-df-quickchart:hover {\n",
              "    background-color: var(--hover-bg-color);\n",
              "    box-shadow: 0 1px 2px rgba(60, 64, 67, 0.3), 0 1px 3px 1px rgba(60, 64, 67, 0.15);\n",
              "    fill: var(--button-hover-fill-color);\n",
              "  }\n",
              "\n",
              "  .colab-df-quickchart-complete:disabled,\n",
              "  .colab-df-quickchart-complete:disabled:hover {\n",
              "    background-color: var(--disabled-bg-color);\n",
              "    fill: var(--disabled-fill-color);\n",
              "    box-shadow: none;\n",
              "  }\n",
              "\n",
              "  .colab-df-spinner {\n",
              "    border: 2px solid var(--fill-color);\n",
              "    border-color: transparent;\n",
              "    border-bottom-color: var(--fill-color);\n",
              "    animation:\n",
              "      spin 1s steps(1) infinite;\n",
              "  }\n",
              "\n",
              "  @keyframes spin {\n",
              "    0% {\n",
              "      border-color: transparent;\n",
              "      border-bottom-color: var(--fill-color);\n",
              "      border-left-color: var(--fill-color);\n",
              "    }\n",
              "    20% {\n",
              "      border-color: transparent;\n",
              "      border-left-color: var(--fill-color);\n",
              "      border-top-color: var(--fill-color);\n",
              "    }\n",
              "    30% {\n",
              "      border-color: transparent;\n",
              "      border-left-color: var(--fill-color);\n",
              "      border-top-color: var(--fill-color);\n",
              "      border-right-color: var(--fill-color);\n",
              "    }\n",
              "    40% {\n",
              "      border-color: transparent;\n",
              "      border-right-color: var(--fill-color);\n",
              "      border-top-color: var(--fill-color);\n",
              "    }\n",
              "    60% {\n",
              "      border-color: transparent;\n",
              "      border-right-color: var(--fill-color);\n",
              "    }\n",
              "    80% {\n",
              "      border-color: transparent;\n",
              "      border-right-color: var(--fill-color);\n",
              "      border-bottom-color: var(--fill-color);\n",
              "    }\n",
              "    90% {\n",
              "      border-color: transparent;\n",
              "      border-bottom-color: var(--fill-color);\n",
              "    }\n",
              "  }\n",
              "</style>\n",
              "\n",
              "  <script>\n",
              "    async function quickchart(key) {\n",
              "      const quickchartButtonEl =\n",
              "        document.querySelector('#' + key + ' button');\n",
              "      quickchartButtonEl.disabled = true;  // To prevent multiple clicks.\n",
              "      quickchartButtonEl.classList.add('colab-df-spinner');\n",
              "      try {\n",
              "        const charts = await google.colab.kernel.invokeFunction(\n",
              "            'suggestCharts', [key], {});\n",
              "      } catch (error) {\n",
              "        console.error('Error during call to suggestCharts:', error);\n",
              "      }\n",
              "      quickchartButtonEl.classList.remove('colab-df-spinner');\n",
              "      quickchartButtonEl.classList.add('colab-df-quickchart-complete');\n",
              "    }\n",
              "    (() => {\n",
              "      let quickchartButtonEl =\n",
              "        document.querySelector('#df-00179872-cad0-46b0-b9c0-01af12e5218d button');\n",
              "      quickchartButtonEl.style.display =\n",
              "        google.colab.kernel.accessAllowed ? 'block' : 'none';\n",
              "    })();\n",
              "  </script>\n",
              "</div>\n",
              "\n",
              "    </div>\n",
              "  </div>\n"
            ]
          },
          "metadata": {},
          "execution_count": 18
        }
      ]
    },
    {
      "cell_type": "code",
      "source": [
        "dataset.columns"
      ],
      "metadata": {
        "colab": {
          "base_uri": "https://localhost:8080/"
        },
        "id": "IB3Z_hBlNfC1",
        "outputId": "7fbd3e01-3d04-4cfe-e5a0-a231b5391579"
      },
      "execution_count": null,
      "outputs": [
        {
          "output_type": "execute_result",
          "data": {
            "text/plain": [
              "Index(['VIN (1-10)', 'County', 'City', 'State', 'Postal Code', 'Model Year',\n",
              "       'Make', 'Model', 'Electric Vehicle Type',\n",
              "       'Clean Alternative Fuel Vehicle (CAFV) Eligibility', 'Electric Range',\n",
              "       'Base MSRP', 'Legislative District', 'DOL Vehicle ID',\n",
              "       'Vehicle Location', 'Electric Utility', '2020 Census Tract'],\n",
              "      dtype='object')"
            ]
          },
          "metadata": {},
          "execution_count": 19
        }
      ]
    },
    {
      "cell_type": "code",
      "source": [
        "dataset.dtypes"
      ],
      "metadata": {
        "colab": {
          "base_uri": "https://localhost:8080/"
        },
        "id": "QRRumZV_NsJr",
        "outputId": "9ec09e1e-a7d8-4ffa-e90d-ae10dbd5b21c"
      },
      "execution_count": null,
      "outputs": [
        {
          "output_type": "execute_result",
          "data": {
            "text/plain": [
              "VIN (1-10)                                            object\n",
              "County                                                object\n",
              "City                                                  object\n",
              "State                                                 object\n",
              "Postal Code                                          float64\n",
              "Model Year                                             int64\n",
              "Make                                                  object\n",
              "Model                                                 object\n",
              "Electric Vehicle Type                                 object\n",
              "Clean Alternative Fuel Vehicle (CAFV) Eligibility     object\n",
              "Electric Range                                         int64\n",
              "Base MSRP                                              int64\n",
              "Legislative District                                 float64\n",
              "DOL Vehicle ID                                         int64\n",
              "Vehicle Location                                      object\n",
              "Electric Utility                                      object\n",
              "2020 Census Tract                                    float64\n",
              "dtype: object"
            ]
          },
          "metadata": {},
          "execution_count": 20
        }
      ]
    },
    {
      "cell_type": "markdown",
      "source": [
        "**Numpy**"
      ],
      "metadata": {
        "id": "cowGZKw6ODov"
      }
    },
    {
      "cell_type": "markdown",
      "source": [
        "NumPy, short for Numerical Python, is a powerful open-source library for numerical computing in Python. It provides support for large, multi-dimensional arrays and matrices, along with an extensive collection of high-level mathematical functions to operate on these arrays. NumPy is a fundamental package for scientific computing and data analysis, serving as the foundation for many other libraries in the Python ecosystem. Its efficient array operations, broadcasting capabilities, and integration with other data science tools make it essential for tasks like linear algebra, statistical analysis, and machine learning. NumPy's simplicity and performance contribute to its widespread adoption in academia, industry, and research."
      ],
      "metadata": {
        "id": "hqWOMOLUOOa9"
      }
    },
    {
      "cell_type": "code",
      "source": [
        "a1 = np.array([1,2,3])\n",
        "a1"
      ],
      "metadata": {
        "colab": {
          "base_uri": "https://localhost:8080/"
        },
        "id": "2X9JsC02OPP2",
        "outputId": "fc6725c5-123b-4d10-87dd-132fe50aae45"
      },
      "execution_count": null,
      "outputs": [
        {
          "output_type": "execute_result",
          "data": {
            "text/plain": [
              "array([1, 2, 3])"
            ]
          },
          "metadata": {},
          "execution_count": 23
        }
      ]
    },
    {
      "cell_type": "code",
      "source": [
        "type(a1)"
      ],
      "metadata": {
        "colab": {
          "base_uri": "https://localhost:8080/"
        },
        "id": "zbaVb5HfOiSc",
        "outputId": "c2d4ae79-6925-4a25-8f2f-6ffd1fe2e07d"
      },
      "execution_count": null,
      "outputs": [
        {
          "output_type": "execute_result",
          "data": {
            "text/plain": [
              "numpy.ndarray"
            ]
          },
          "metadata": {},
          "execution_count": 24
        }
      ]
    },
    {
      "cell_type": "code",
      "source": [
        "a2 = np.array([[[1, 2, 3],\n",
        "                [4, 5, 6],\n",
        "               [7, 8, 9]],\n",
        "                [[10, 11, 12],\n",
        "               [13, 14, 15],\n",
        "                [16, 17, 18]]])\n",
        "a2.shape"
      ],
      "metadata": {
        "colab": {
          "base_uri": "https://localhost:8080/"
        },
        "id": "uCZL1GcYOm7-",
        "outputId": "69d6eda9-f4b3-4ce4-a282-e8292d657a2c"
      },
      "execution_count": null,
      "outputs": [
        {
          "output_type": "execute_result",
          "data": {
            "text/plain": [
              "(2, 3, 3)"
            ]
          },
          "metadata": {},
          "execution_count": 29
        }
      ]
    },
    {
      "cell_type": "code",
      "source": [
        "a2.ndim, a2.dtype , a2.size"
      ],
      "metadata": {
        "colab": {
          "base_uri": "https://localhost:8080/"
        },
        "id": "raKPkIlkOxdi",
        "outputId": "a6109ed2-223d-4b93-8e91-ac1a5866bb77"
      },
      "execution_count": null,
      "outputs": [
        {
          "output_type": "execute_result",
          "data": {
            "text/plain": [
              "(3, dtype('int64'), 18)"
            ]
          },
          "metadata": {},
          "execution_count": 31
        }
      ]
    },
    {
      "cell_type": "markdown",
      "source": [
        "# Creating a One's and Zeroes Array"
      ],
      "metadata": {
        "id": "mVOGbmKwPHtu"
      }
    },
    {
      "cell_type": "code",
      "source": [
        "ones = np.ones((2,3))\n",
        "ones"
      ],
      "metadata": {
        "colab": {
          "base_uri": "https://localhost:8080/"
        },
        "id": "jAxsmzpGO0tB",
        "outputId": "1d457075-753b-447a-f05f-be7fb0d10c84"
      },
      "execution_count": null,
      "outputs": [
        {
          "output_type": "execute_result",
          "data": {
            "text/plain": [
              "array([[1., 1., 1.],\n",
              "       [1., 1., 1.]])"
            ]
          },
          "metadata": {},
          "execution_count": 33
        }
      ]
    },
    {
      "cell_type": "code",
      "source": [
        "zeroes = np.zeros((3,4))\n",
        "zeroes"
      ],
      "metadata": {
        "colab": {
          "base_uri": "https://localhost:8080/"
        },
        "id": "ych4WZFDPYZp",
        "outputId": "a3ea95c0-6ead-4ac7-98a7-cf62b387853e"
      },
      "execution_count": null,
      "outputs": [
        {
          "output_type": "execute_result",
          "data": {
            "text/plain": [
              "array([[0., 0., 0., 0.],\n",
              "       [0., 0., 0., 0.],\n",
              "       [0., 0., 0., 0.]])"
            ]
          },
          "metadata": {},
          "execution_count": 34
        }
      ]
    },
    {
      "cell_type": "code",
      "source": [
        "ones.dtype, zeroes.dtype"
      ],
      "metadata": {
        "colab": {
          "base_uri": "https://localhost:8080/"
        },
        "id": "_FhN4hrAPd7W",
        "outputId": "4a5b5a2c-69a0-4925-f0c3-427bb30f5201"
      },
      "execution_count": null,
      "outputs": [
        {
          "output_type": "execute_result",
          "data": {
            "text/plain": [
              "(dtype('float64'), dtype('float64'))"
            ]
          },
          "metadata": {},
          "execution_count": 35
        }
      ]
    },
    {
      "cell_type": "markdown",
      "source": [
        "# Creating a Range & Random Array"
      ],
      "metadata": {
        "id": "VRc0KsQQPmpo"
      }
    },
    {
      "cell_type": "code",
      "source": [
        "range_array = np.arange(2,10,2)\n",
        "range_array"
      ],
      "metadata": {
        "colab": {
          "base_uri": "https://localhost:8080/"
        },
        "id": "rDQegM2_Pih1",
        "outputId": "e1ad4ede-9ebb-463b-e766-9c6655046742"
      },
      "execution_count": null,
      "outputs": [
        {
          "output_type": "execute_result",
          "data": {
            "text/plain": [
              "array([2, 4, 6, 8])"
            ]
          },
          "metadata": {},
          "execution_count": 36
        }
      ]
    },
    {
      "cell_type": "code",
      "source": [
        "random_array = np.random.randint(0, 10 , size=(3,5))\n",
        "random_array"
      ],
      "metadata": {
        "colab": {
          "base_uri": "https://localhost:8080/"
        },
        "id": "AhKV9bfxPuI4",
        "outputId": "d02e56a0-e20e-40a6-a4a0-038782627d32"
      },
      "execution_count": null,
      "outputs": [
        {
          "output_type": "execute_result",
          "data": {
            "text/plain": [
              "array([[4, 4, 5, 9, 3],\n",
              "       [1, 1, 9, 1, 7],\n",
              "       [2, 2, 2, 4, 0]])"
            ]
          },
          "metadata": {},
          "execution_count": 37
        }
      ]
    },
    {
      "cell_type": "markdown",
      "source": [
        "R libraries:\n",
        "\n",
        "*   dplyr\n",
        "*   tidyr\n",
        "\n",
        "\n",
        "\n",
        "\n",
        "\n",
        "The package \"dplyr\" comprises many functions that perform mostly used data manipulation operations such as applying filter, selecting specific columns, sorting data, adding or deleting columns and aggregating data. Another most important advantage of this package is that it's very easy to learn and use dplyr functions. Also easy to recall these functions."
      ],
      "metadata": {
        "id": "3SY_5U28QJgW"
      }
    },
    {
      "cell_type": "markdown",
      "source": [
        "**dplyr**\n",
        "\n",
        "The package \"dplyr\" comprises many functions that perform mostly used data manipulation operations such as applying filter, selecting specific columns, sorting data, adding or deleting columns and aggregating data. Another most important advantage of this package is that it's very easy to learn and use dplyr functions. Also easy to recall these functions."
      ],
      "metadata": {
        "id": "mWPYEthHQbyV"
      }
    },
    {
      "cell_type": "code",
      "source": [
        "install.packages(\"dplyr\")"
      ],
      "metadata": {
        "colab": {
          "base_uri": "https://localhost:8080/"
        },
        "id": "aGbrhy3sPxRV",
        "outputId": "155fc80c-b2bf-4e62-cfdb-5547f174ddb0"
      },
      "execution_count": null,
      "outputs": [
        {
          "output_type": "stream",
          "name": "stderr",
          "text": [
            "Installing package into ‘/usr/local/lib/R/site-library’\n",
            "(as ‘lib’ is unspecified)\n",
            "\n"
          ]
        }
      ]
    },
    {
      "cell_type": "code",
      "source": [
        "library(dplyr)"
      ],
      "metadata": {
        "colab": {
          "base_uri": "https://localhost:8080/"
        },
        "id": "59Eu3OCfQrBP",
        "outputId": "8bcd3234-b260-4fb9-9c68-3f5b5b8dbfde"
      },
      "execution_count": null,
      "outputs": [
        {
          "output_type": "stream",
          "name": "stderr",
          "text": [
            "\n",
            "Attaching package: ‘dplyr’\n",
            "\n",
            "\n",
            "The following objects are masked from ‘package:stats’:\n",
            "\n",
            "    filter, lag\n",
            "\n",
            "\n",
            "The following objects are masked from ‘package:base’:\n",
            "\n",
            "    intersect, setdiff, setequal, union\n",
            "\n",
            "\n"
          ]
        }
      ]
    },
    {
      "cell_type": "code",
      "source": [
        "data = read.csv('/content/drive/MyDrive/Electric_Vehicle_Population_Data.csv')\n",
        "\n",
        "head(data, 5)"
      ],
      "metadata": {
        "colab": {
          "base_uri": "https://localhost:8080/",
          "height": 465
        },
        "id": "vx8k5wwPQz8k",
        "outputId": "03d96288-9f4a-420d-a8f4-26bf6150e3b6"
      },
      "execution_count": null,
      "outputs": [
        {
          "output_type": "display_data",
          "data": {
            "text/html": [
              "<table class=\"dataframe\">\n",
              "<caption>A data.frame: 5 × 17</caption>\n",
              "<thead>\n",
              "\t<tr><th></th><th scope=col>VIN..1.10.</th><th scope=col>County</th><th scope=col>City</th><th scope=col>State</th><th scope=col>Postal.Code</th><th scope=col>Model.Year</th><th scope=col>Make</th><th scope=col>Model</th><th scope=col>Electric.Vehicle.Type</th><th scope=col>Clean.Alternative.Fuel.Vehicle..CAFV..Eligibility</th><th scope=col>Electric.Range</th><th scope=col>Base.MSRP</th><th scope=col>Legislative.District</th><th scope=col>DOL.Vehicle.ID</th><th scope=col>Vehicle.Location</th><th scope=col>Electric.Utility</th><th scope=col>X2020.Census.Tract</th></tr>\n",
              "\t<tr><th></th><th scope=col>&lt;chr&gt;</th><th scope=col>&lt;chr&gt;</th><th scope=col>&lt;chr&gt;</th><th scope=col>&lt;chr&gt;</th><th scope=col>&lt;int&gt;</th><th scope=col>&lt;int&gt;</th><th scope=col>&lt;chr&gt;</th><th scope=col>&lt;chr&gt;</th><th scope=col>&lt;chr&gt;</th><th scope=col>&lt;chr&gt;</th><th scope=col>&lt;int&gt;</th><th scope=col>&lt;int&gt;</th><th scope=col>&lt;int&gt;</th><th scope=col>&lt;int&gt;</th><th scope=col>&lt;chr&gt;</th><th scope=col>&lt;chr&gt;</th><th scope=col>&lt;dbl&gt;</th></tr>\n",
              "</thead>\n",
              "<tbody>\n",
              "\t<tr><th scope=row>1</th><td>3C3CFFGE4E</td><td>Yakima   </td><td>Yakima </td><td>WA</td><td>98902</td><td>2014</td><td>FIAT  </td><td>500    </td><td>Battery Electric Vehicle (BEV)        </td><td>Clean Alternative Fuel Vehicle Eligible                     </td><td> 87</td><td>0</td><td>14</td><td>  1593721</td><td>POINT (-120.524012 46.5973939) </td><td>PACIFICORP                                   </td><td>53077000700</td></tr>\n",
              "\t<tr><th scope=row>2</th><td>5YJXCBE40H</td><td>Thurston </td><td>Olympia</td><td>WA</td><td>98513</td><td>2017</td><td>TESLA </td><td>MODEL X</td><td>Battery Electric Vehicle (BEV)        </td><td>Clean Alternative Fuel Vehicle Eligible                     </td><td>200</td><td>0</td><td> 2</td><td>257167501</td><td>POINT (-122.817545 46.98876)   </td><td>PUGET SOUND ENERGY INC                       </td><td>53067012331</td></tr>\n",
              "\t<tr><th scope=row>3</th><td>3MW39FS03P</td><td>King     </td><td>Renton </td><td>WA</td><td>98058</td><td>2023</td><td>BMW   </td><td>330E   </td><td>Plug-in Hybrid Electric Vehicle (PHEV)</td><td>Not eligible due to low battery range                       </td><td> 20</td><td>0</td><td>11</td><td>224071816</td><td>POINT (-122.1298876 47.4451257)</td><td>PUGET SOUND ENERGY INC||CITY OF TACOMA - (WA)</td><td>53033025803</td></tr>\n",
              "\t<tr><th scope=row>4</th><td>7PDSGABA8P</td><td>Snohomish</td><td>Bothell</td><td>WA</td><td>98012</td><td>2023</td><td>RIVIAN</td><td>R1S    </td><td>Battery Electric Vehicle (BEV)        </td><td>Eligibility unknown as battery range has not been researched</td><td>  0</td><td>0</td><td>21</td><td>260084653</td><td>POINT (-122.1873 47.820245)    </td><td>PUGET SOUND ENERGY INC                       </td><td>53061051927</td></tr>\n",
              "\t<tr><th scope=row>5</th><td>5YJ3E1EB8L</td><td>King     </td><td>Kent   </td><td>WA</td><td>98031</td><td>2020</td><td>TESLA </td><td>MODEL 3</td><td>Battery Electric Vehicle (BEV)        </td><td>Clean Alternative Fuel Vehicle Eligible                     </td><td>322</td><td>0</td><td>33</td><td>253771913</td><td>POINT (-122.2012521 47.3931814)</td><td>PUGET SOUND ENERGY INC||CITY OF TACOMA - (WA)</td><td>53033029305</td></tr>\n",
              "</tbody>\n",
              "</table>\n"
            ],
            "text/markdown": "\nA data.frame: 5 × 17\n\n| <!--/--> | VIN..1.10. &lt;chr&gt; | County &lt;chr&gt; | City &lt;chr&gt; | State &lt;chr&gt; | Postal.Code &lt;int&gt; | Model.Year &lt;int&gt; | Make &lt;chr&gt; | Model &lt;chr&gt; | Electric.Vehicle.Type &lt;chr&gt; | Clean.Alternative.Fuel.Vehicle..CAFV..Eligibility &lt;chr&gt; | Electric.Range &lt;int&gt; | Base.MSRP &lt;int&gt; | Legislative.District &lt;int&gt; | DOL.Vehicle.ID &lt;int&gt; | Vehicle.Location &lt;chr&gt; | Electric.Utility &lt;chr&gt; | X2020.Census.Tract &lt;dbl&gt; |\n|---|---|---|---|---|---|---|---|---|---|---|---|---|---|---|---|---|---|\n| 1 | 3C3CFFGE4E | Yakima    | Yakima  | WA | 98902 | 2014 | FIAT   | 500     | Battery Electric Vehicle (BEV)         | Clean Alternative Fuel Vehicle Eligible                      |  87 | 0 | 14 |   1593721 | POINT (-120.524012 46.5973939)  | PACIFICORP                                    | 53077000700 |\n| 2 | 5YJXCBE40H | Thurston  | Olympia | WA | 98513 | 2017 | TESLA  | MODEL X | Battery Electric Vehicle (BEV)         | Clean Alternative Fuel Vehicle Eligible                      | 200 | 0 |  2 | 257167501 | POINT (-122.817545 46.98876)    | PUGET SOUND ENERGY INC                        | 53067012331 |\n| 3 | 3MW39FS03P | King      | Renton  | WA | 98058 | 2023 | BMW    | 330E    | Plug-in Hybrid Electric Vehicle (PHEV) | Not eligible due to low battery range                        |  20 | 0 | 11 | 224071816 | POINT (-122.1298876 47.4451257) | PUGET SOUND ENERGY INC||CITY OF TACOMA - (WA) | 53033025803 |\n| 4 | 7PDSGABA8P | Snohomish | Bothell | WA | 98012 | 2023 | RIVIAN | R1S     | Battery Electric Vehicle (BEV)         | Eligibility unknown as battery range has not been researched |   0 | 0 | 21 | 260084653 | POINT (-122.1873 47.820245)     | PUGET SOUND ENERGY INC                        | 53061051927 |\n| 5 | 5YJ3E1EB8L | King      | Kent    | WA | 98031 | 2020 | TESLA  | MODEL 3 | Battery Electric Vehicle (BEV)         | Clean Alternative Fuel Vehicle Eligible                      | 322 | 0 | 33 | 253771913 | POINT (-122.2012521 47.3931814) | PUGET SOUND ENERGY INC||CITY OF TACOMA - (WA) | 53033029305 |\n\n",
            "text/latex": "A data.frame: 5 × 17\n\\begin{tabular}{r|lllllllllllllllll}\n  & VIN..1.10. & County & City & State & Postal.Code & Model.Year & Make & Model & Electric.Vehicle.Type & Clean.Alternative.Fuel.Vehicle..CAFV..Eligibility & Electric.Range & Base.MSRP & Legislative.District & DOL.Vehicle.ID & Vehicle.Location & Electric.Utility & X2020.Census.Tract\\\\\n  & <chr> & <chr> & <chr> & <chr> & <int> & <int> & <chr> & <chr> & <chr> & <chr> & <int> & <int> & <int> & <int> & <chr> & <chr> & <dbl>\\\\\n\\hline\n\t1 & 3C3CFFGE4E & Yakima    & Yakima  & WA & 98902 & 2014 & FIAT   & 500     & Battery Electric Vehicle (BEV)         & Clean Alternative Fuel Vehicle Eligible                      &  87 & 0 & 14 &   1593721 & POINT (-120.524012 46.5973939)  & PACIFICORP                                    & 53077000700\\\\\n\t2 & 5YJXCBE40H & Thurston  & Olympia & WA & 98513 & 2017 & TESLA  & MODEL X & Battery Electric Vehicle (BEV)         & Clean Alternative Fuel Vehicle Eligible                      & 200 & 0 &  2 & 257167501 & POINT (-122.817545 46.98876)    & PUGET SOUND ENERGY INC                        & 53067012331\\\\\n\t3 & 3MW39FS03P & King      & Renton  & WA & 98058 & 2023 & BMW    & 330E    & Plug-in Hybrid Electric Vehicle (PHEV) & Not eligible due to low battery range                        &  20 & 0 & 11 & 224071816 & POINT (-122.1298876 47.4451257) & PUGET SOUND ENERGY INC\\textbar{}\\textbar{}CITY OF TACOMA - (WA) & 53033025803\\\\\n\t4 & 7PDSGABA8P & Snohomish & Bothell & WA & 98012 & 2023 & RIVIAN & R1S     & Battery Electric Vehicle (BEV)         & Eligibility unknown as battery range has not been researched &   0 & 0 & 21 & 260084653 & POINT (-122.1873 47.820245)     & PUGET SOUND ENERGY INC                        & 53061051927\\\\\n\t5 & 5YJ3E1EB8L & King      & Kent    & WA & 98031 & 2020 & TESLA  & MODEL 3 & Battery Electric Vehicle (BEV)         & Clean Alternative Fuel Vehicle Eligible                      & 322 & 0 & 33 & 253771913 & POINT (-122.2012521 47.3931814) & PUGET SOUND ENERGY INC\\textbar{}\\textbar{}CITY OF TACOMA - (WA) & 53033029305\\\\\n\\end{tabular}\n",
            "text/plain": [
              "  VIN..1.10. County    City    State Postal.Code Model.Year Make   Model  \n",
              "1 3C3CFFGE4E Yakima    Yakima  WA    98902       2014       FIAT   500    \n",
              "2 5YJXCBE40H Thurston  Olympia WA    98513       2017       TESLA  MODEL X\n",
              "3 3MW39FS03P King      Renton  WA    98058       2023       BMW    330E   \n",
              "4 7PDSGABA8P Snohomish Bothell WA    98012       2023       RIVIAN R1S    \n",
              "5 5YJ3E1EB8L King      Kent    WA    98031       2020       TESLA  MODEL 3\n",
              "  Electric.Vehicle.Type                 \n",
              "1 Battery Electric Vehicle (BEV)        \n",
              "2 Battery Electric Vehicle (BEV)        \n",
              "3 Plug-in Hybrid Electric Vehicle (PHEV)\n",
              "4 Battery Electric Vehicle (BEV)        \n",
              "5 Battery Electric Vehicle (BEV)        \n",
              "  Clean.Alternative.Fuel.Vehicle..CAFV..Eligibility            Electric.Range\n",
              "1 Clean Alternative Fuel Vehicle Eligible                       87           \n",
              "2 Clean Alternative Fuel Vehicle Eligible                      200           \n",
              "3 Not eligible due to low battery range                         20           \n",
              "4 Eligibility unknown as battery range has not been researched   0           \n",
              "5 Clean Alternative Fuel Vehicle Eligible                      322           \n",
              "  Base.MSRP Legislative.District DOL.Vehicle.ID Vehicle.Location               \n",
              "1 0         14                     1593721      POINT (-120.524012 46.5973939) \n",
              "2 0          2                   257167501      POINT (-122.817545 46.98876)   \n",
              "3 0         11                   224071816      POINT (-122.1298876 47.4451257)\n",
              "4 0         21                   260084653      POINT (-122.1873 47.820245)    \n",
              "5 0         33                   253771913      POINT (-122.2012521 47.3931814)\n",
              "  Electric.Utility                              X2020.Census.Tract\n",
              "1 PACIFICORP                                    53077000700       \n",
              "2 PUGET SOUND ENERGY INC                        53067012331       \n",
              "3 PUGET SOUND ENERGY INC||CITY OF TACOMA - (WA) 53033025803       \n",
              "4 PUGET SOUND ENERGY INC                        53061051927       \n",
              "5 PUGET SOUND ENERGY INC||CITY OF TACOMA - (WA) 53033029305       "
            ]
          },
          "metadata": {}
        }
      ]
    },
    {
      "cell_type": "code",
      "source": [
        "sample_n(data,3)"
      ],
      "metadata": {
        "colab": {
          "base_uri": "https://localhost:8080/",
          "height": 351
        },
        "id": "qJkPMdfBRAlh",
        "outputId": "0a2c6115-0ca4-4372-84eb-dabfe0cdbeed"
      },
      "execution_count": null,
      "outputs": [
        {
          "output_type": "display_data",
          "data": {
            "text/html": [
              "<table class=\"dataframe\">\n",
              "<caption>A data.frame: 3 × 17</caption>\n",
              "<thead>\n",
              "\t<tr><th scope=col>VIN..1.10.</th><th scope=col>County</th><th scope=col>City</th><th scope=col>State</th><th scope=col>Postal.Code</th><th scope=col>Model.Year</th><th scope=col>Make</th><th scope=col>Model</th><th scope=col>Electric.Vehicle.Type</th><th scope=col>Clean.Alternative.Fuel.Vehicle..CAFV..Eligibility</th><th scope=col>Electric.Range</th><th scope=col>Base.MSRP</th><th scope=col>Legislative.District</th><th scope=col>DOL.Vehicle.ID</th><th scope=col>Vehicle.Location</th><th scope=col>Electric.Utility</th><th scope=col>X2020.Census.Tract</th></tr>\n",
              "\t<tr><th scope=col>&lt;chr&gt;</th><th scope=col>&lt;chr&gt;</th><th scope=col>&lt;chr&gt;</th><th scope=col>&lt;chr&gt;</th><th scope=col>&lt;int&gt;</th><th scope=col>&lt;int&gt;</th><th scope=col>&lt;chr&gt;</th><th scope=col>&lt;chr&gt;</th><th scope=col>&lt;chr&gt;</th><th scope=col>&lt;chr&gt;</th><th scope=col>&lt;int&gt;</th><th scope=col>&lt;int&gt;</th><th scope=col>&lt;int&gt;</th><th scope=col>&lt;int&gt;</th><th scope=col>&lt;chr&gt;</th><th scope=col>&lt;chr&gt;</th><th scope=col>&lt;dbl&gt;</th></tr>\n",
              "</thead>\n",
              "<tbody>\n",
              "\t<tr><td>KMHM54ACXR</td><td>King  </td><td>Mercer Island</td><td>WA</td><td>98040</td><td>2024</td><td>HYUNDAI</td><td>IONIQ 6</td><td>Battery Electric Vehicle (BEV)</td><td>Eligibility unknown as battery range has not been researched</td><td>0</td><td>0</td><td>41</td><td>260832099</td><td>POINT (-122.2377542 47.582905)</td><td>PUGET SOUND ENERGY INC||CITY OF TACOMA - (WA)                                  </td><td>53033024602</td></tr>\n",
              "\t<tr><td>KM8KMDAFXP</td><td>Pierce</td><td>Tacoma       </td><td>WA</td><td>98422</td><td>2023</td><td>HYUNDAI</td><td>IONIQ 5</td><td>Battery Electric Vehicle (BEV)</td><td>Eligibility unknown as battery range has not been researched</td><td>0</td><td>0</td><td>27</td><td>218781412</td><td>POINT (-122.38578 47.28971)   </td><td>BONNEVILLE POWER ADMINISTRATION||CITY OF TACOMA - (WA)||PENINSULA LIGHT COMPANY</td><td>53053940005</td></tr>\n",
              "\t<tr><td>5YJ3E1EB7N</td><td>King  </td><td>Seattle      </td><td>WA</td><td>98109</td><td>2022</td><td>TESLA  </td><td>MODEL 3</td><td>Battery Electric Vehicle (BEV)</td><td>Eligibility unknown as battery range has not been researched</td><td>0</td><td>0</td><td>43</td><td>195273704</td><td>POINT (-122.34848 47.632405)  </td><td>CITY OF SEATTLE - (WA)|CITY OF TACOMA - (WA)                                   </td><td>53033007301</td></tr>\n",
              "</tbody>\n",
              "</table>\n"
            ],
            "text/markdown": "\nA data.frame: 3 × 17\n\n| VIN..1.10. &lt;chr&gt; | County &lt;chr&gt; | City &lt;chr&gt; | State &lt;chr&gt; | Postal.Code &lt;int&gt; | Model.Year &lt;int&gt; | Make &lt;chr&gt; | Model &lt;chr&gt; | Electric.Vehicle.Type &lt;chr&gt; | Clean.Alternative.Fuel.Vehicle..CAFV..Eligibility &lt;chr&gt; | Electric.Range &lt;int&gt; | Base.MSRP &lt;int&gt; | Legislative.District &lt;int&gt; | DOL.Vehicle.ID &lt;int&gt; | Vehicle.Location &lt;chr&gt; | Electric.Utility &lt;chr&gt; | X2020.Census.Tract &lt;dbl&gt; |\n|---|---|---|---|---|---|---|---|---|---|---|---|---|---|---|---|---|\n| KMHM54ACXR | King   | Mercer Island | WA | 98040 | 2024 | HYUNDAI | IONIQ 6 | Battery Electric Vehicle (BEV) | Eligibility unknown as battery range has not been researched | 0 | 0 | 41 | 260832099 | POINT (-122.2377542 47.582905) | PUGET SOUND ENERGY INC||CITY OF TACOMA - (WA)                                   | 53033024602 |\n| KM8KMDAFXP | Pierce | Tacoma        | WA | 98422 | 2023 | HYUNDAI | IONIQ 5 | Battery Electric Vehicle (BEV) | Eligibility unknown as battery range has not been researched | 0 | 0 | 27 | 218781412 | POINT (-122.38578 47.28971)    | BONNEVILLE POWER ADMINISTRATION||CITY OF TACOMA - (WA)||PENINSULA LIGHT COMPANY | 53053940005 |\n| 5YJ3E1EB7N | King   | Seattle       | WA | 98109 | 2022 | TESLA   | MODEL 3 | Battery Electric Vehicle (BEV) | Eligibility unknown as battery range has not been researched | 0 | 0 | 43 | 195273704 | POINT (-122.34848 47.632405)   | CITY OF SEATTLE - (WA)|CITY OF TACOMA - (WA)                                    | 53033007301 |\n\n",
            "text/latex": "A data.frame: 3 × 17\n\\begin{tabular}{lllllllllllllllll}\n VIN..1.10. & County & City & State & Postal.Code & Model.Year & Make & Model & Electric.Vehicle.Type & Clean.Alternative.Fuel.Vehicle..CAFV..Eligibility & Electric.Range & Base.MSRP & Legislative.District & DOL.Vehicle.ID & Vehicle.Location & Electric.Utility & X2020.Census.Tract\\\\\n <chr> & <chr> & <chr> & <chr> & <int> & <int> & <chr> & <chr> & <chr> & <chr> & <int> & <int> & <int> & <int> & <chr> & <chr> & <dbl>\\\\\n\\hline\n\t KMHM54ACXR & King   & Mercer Island & WA & 98040 & 2024 & HYUNDAI & IONIQ 6 & Battery Electric Vehicle (BEV) & Eligibility unknown as battery range has not been researched & 0 & 0 & 41 & 260832099 & POINT (-122.2377542 47.582905) & PUGET SOUND ENERGY INC\\textbar{}\\textbar{}CITY OF TACOMA - (WA)                                   & 53033024602\\\\\n\t KM8KMDAFXP & Pierce & Tacoma        & WA & 98422 & 2023 & HYUNDAI & IONIQ 5 & Battery Electric Vehicle (BEV) & Eligibility unknown as battery range has not been researched & 0 & 0 & 27 & 218781412 & POINT (-122.38578 47.28971)    & BONNEVILLE POWER ADMINISTRATION\\textbar{}\\textbar{}CITY OF TACOMA - (WA)\\textbar{}\\textbar{}PENINSULA LIGHT COMPANY & 53053940005\\\\\n\t 5YJ3E1EB7N & King   & Seattle       & WA & 98109 & 2022 & TESLA   & MODEL 3 & Battery Electric Vehicle (BEV) & Eligibility unknown as battery range has not been researched & 0 & 0 & 43 & 195273704 & POINT (-122.34848 47.632405)   & CITY OF SEATTLE - (WA)\\textbar{}CITY OF TACOMA - (WA)                                    & 53033007301\\\\\n\\end{tabular}\n",
            "text/plain": [
              "  VIN..1.10. County City          State Postal.Code Model.Year Make    Model  \n",
              "1 KMHM54ACXR King   Mercer Island WA    98040       2024       HYUNDAI IONIQ 6\n",
              "2 KM8KMDAFXP Pierce Tacoma        WA    98422       2023       HYUNDAI IONIQ 5\n",
              "3 5YJ3E1EB7N King   Seattle       WA    98109       2022       TESLA   MODEL 3\n",
              "  Electric.Vehicle.Type         \n",
              "1 Battery Electric Vehicle (BEV)\n",
              "2 Battery Electric Vehicle (BEV)\n",
              "3 Battery Electric Vehicle (BEV)\n",
              "  Clean.Alternative.Fuel.Vehicle..CAFV..Eligibility            Electric.Range\n",
              "1 Eligibility unknown as battery range has not been researched 0             \n",
              "2 Eligibility unknown as battery range has not been researched 0             \n",
              "3 Eligibility unknown as battery range has not been researched 0             \n",
              "  Base.MSRP Legislative.District DOL.Vehicle.ID Vehicle.Location              \n",
              "1 0         41                   260832099      POINT (-122.2377542 47.582905)\n",
              "2 0         27                   218781412      POINT (-122.38578 47.28971)   \n",
              "3 0         43                   195273704      POINT (-122.34848 47.632405)  \n",
              "  Electric.Utility                                                               \n",
              "1 PUGET SOUND ENERGY INC||CITY OF TACOMA - (WA)                                  \n",
              "2 BONNEVILLE POWER ADMINISTRATION||CITY OF TACOMA - (WA)||PENINSULA LIGHT COMPANY\n",
              "3 CITY OF SEATTLE - (WA)|CITY OF TACOMA - (WA)                                   \n",
              "  X2020.Census.Tract\n",
              "1 53033024602       \n",
              "2 53053940005       \n",
              "3 53033007301       "
            ]
          },
          "metadata": {}
        }
      ]
    },
    {
      "cell_type": "markdown",
      "source": [
        "**tidyr**\n",
        "\n",
        "The goal of tidyr is to help you create tidy data.\n",
        "\n",
        "Tidy data is data where:\n",
        "\n",
        "Every column is a variable.\n",
        "\n",
        "Every row is an observation.\n",
        "\n",
        "Every cell is a single value.\n"
      ],
      "metadata": {
        "id": "n-FRnlgcRPK5"
      }
    },
    {
      "cell_type": "code",
      "source": [
        "install.packages(\"tidyverse\")"
      ],
      "metadata": {
        "colab": {
          "base_uri": "https://localhost:8080/"
        },
        "id": "i_ED72p1RJ6D",
        "outputId": "5a9e4b34-7fc1-4bfc-92b1-fa7b7ff810bf"
      },
      "execution_count": null,
      "outputs": [
        {
          "output_type": "stream",
          "name": "stderr",
          "text": [
            "Installing package into ‘/usr/local/lib/R/site-library’\n",
            "(as ‘lib’ is unspecified)\n",
            "\n"
          ]
        }
      ]
    },
    {
      "cell_type": "code",
      "source": [
        "library(tidyr)"
      ],
      "metadata": {
        "id": "LB-M67d-Rabc"
      },
      "execution_count": null,
      "outputs": []
    },
    {
      "cell_type": "code",
      "source": [
        "data <- data.frame(\n",
        "  ID = c(1, 2, 3),\n",
        "  Jan = c(10, 15, 20),\n",
        "  Feb = c(12, 18, 22),\n",
        "  Mar = c(14, 20, 25)\n",
        ")\n",
        "\n",
        "\n",
        "print(\"Original data:\")\n",
        "print(data)"
      ],
      "metadata": {
        "colab": {
          "base_uri": "https://localhost:8080/"
        },
        "id": "E1ZqCI0iRdpa",
        "outputId": "5e8c9902-fc1c-4714-cd5c-24bd1b96d29f"
      },
      "execution_count": null,
      "outputs": [
        {
          "output_type": "stream",
          "name": "stdout",
          "text": [
            "[1] \"Original data:\"\n",
            "  ID Jan Feb Mar\n",
            "1  1  10  12  14\n",
            "2  2  15  18  20\n",
            "3  3  20  22  25\n"
          ]
        }
      ]
    },
    {
      "cell_type": "code",
      "source": [
        "# Reshape data using gather(vertical)\n",
        "gathered_data <- gather(data, key = \"Month\", value = \"Value\", -ID)\n",
        "print(\"\\nReshaped data using gather:\")\n",
        "print(gathered_data)"
      ],
      "metadata": {
        "colab": {
          "base_uri": "https://localhost:8080/"
        },
        "id": "kMxSqtRxRwc4",
        "outputId": "1fa1ad0a-92a0-43fc-8187-702ac11c1697"
      },
      "execution_count": null,
      "outputs": [
        {
          "output_type": "stream",
          "name": "stdout",
          "text": [
            "[1] \"\\nReshaped data using gather:\"\n",
            "  ID Month Value\n",
            "1  1   Jan    10\n",
            "2  2   Jan    15\n",
            "3  3   Jan    20\n",
            "4  1   Feb    12\n",
            "5  2   Feb    18\n",
            "6  3   Feb    22\n",
            "7  1   Mar    14\n",
            "8  2   Mar    20\n",
            "9  3   Mar    25\n"
          ]
        }
      ]
    },
    {
      "cell_type": "code",
      "source": [
        "# Reshape data using spread(horizontal)\n",
        "spread_data <- spread(gathered_data, key = \"Month\", value = \"Value\")\n",
        "print(\"\\nReshaped data using spread:\")\n",
        "print(spread_data)"
      ],
      "metadata": {
        "colab": {
          "base_uri": "https://localhost:8080/"
        },
        "id": "9Jds7Ko6RzL-",
        "outputId": "b76edf30-7977-4c29-d380-4eed3ed040bc"
      },
      "execution_count": null,
      "outputs": [
        {
          "output_type": "stream",
          "name": "stdout",
          "text": [
            "[1] \"\\nReshaped data using spread:\"\n",
            "  ID Feb Jan Mar\n",
            "1  1  12  10  14\n",
            "2  2  18  15  20\n",
            "3  3  22  20  25\n"
          ]
        }
      ]
    },
    {
      "cell_type": "code",
      "source": [],
      "metadata": {
        "id": "HIP-oG56R2EA"
      },
      "execution_count": null,
      "outputs": []
    }
  ],
  "metadata": {
    "colab": {
      "provenance": [],
      "mount_file_id": "1mvUe1BMtmHjsb-MxUcgTdadTq9GQ7cfi",
      "authorship_tag": "ABX9TyNC1hVIECW3ZJQ0EFk1VYtq",
      "include_colab_link": true
    },
    "kernelspec": {
      "display_name": "R",
      "name": "ir"
    },
    "language_info": {
      "name": "R"
    }
  },
  "nbformat": 4,
  "nbformat_minor": 0
}