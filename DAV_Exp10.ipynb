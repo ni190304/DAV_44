{
  "nbformat": 4,
  "nbformat_minor": 0,
  "metadata": {
    "colab": {
      "provenance": [],
      "include_colab_link": true
    },
    "kernelspec": {
      "name": "python3",
      "display_name": "Python 3"
    },
    "language_info": {
      "name": "python"
    }
  },
  "cells": [
    {
      "cell_type": "markdown",
      "metadata": {
        "id": "view-in-github",
        "colab_type": "text"
      },
      "source": [
        "<a href=\"https://colab.research.google.com/github/ni190304/DAV_44/blob/master/DAV_Exp10.ipynb\" target=\"_parent\"><img src=\"https://colab.research.google.com/assets/colab-badge.svg\" alt=\"Open In Colab\"/></a>"
      ]
    },
    {
      "cell_type": "code",
      "execution_count": 2,
      "metadata": {
        "colab": {
          "base_uri": "https://localhost:8080/",
          "height": 269
        },
        "id": "sUQwbho5t-1J",
        "outputId": "43100dd6-5cab-4de9-f6e0-071e46991f34"
      },
      "outputs": [
        {
          "output_type": "display_data",
          "data": {
            "text/plain": [
              "<IPython.core.display.HTML object>"
            ],
            "text/html": [
              "<!DOCTYPE html>\n",
              "<html lang=\"en\">\n",
              "<head>\n",
              "  <meta charset=\"UTF-8\">\n",
              "  <meta name=\"viewport\" content=\"width=device-width, initial-scale=1.0\">\n",
              "  <title>D3.js Event Handling</title>\n",
              "  <script src=\"https://d3js.org/d3.v5.min.js\"></script>\n",
              "</head>\n",
              "<body>\n",
              "  <h2>Click the circle</h2>\n",
              "  <svg width=\"200\" height=\"200\">\n",
              "    <circle cx=\"100\" cy=\"100\" r=\"50\" fill=\"orange\"></circle>\n",
              "  </svg>\n",
              "\n",
              "  <script>\n",
              "    const circle = d3.select(\"circle\");\n",
              "\n",
              "    // Add event listener for click event\n",
              "    circle.on(\"click\", function() {\n",
              "      d3.select(this)\n",
              "        .transition()\n",
              "        .duration(1000)\n",
              "        .attr(\"fill\", \"orange\");\n",
              "    });\n",
              "  </script>\n",
              "</body>\n",
              "</html>\n"
            ]
          },
          "metadata": {}
        }
      ],
      "source": [
        "%%html\n",
        "<!DOCTYPE html>\n",
        "<html lang=\"en\">\n",
        "<head>\n",
        "  <meta charset=\"UTF-8\">\n",
        "  <meta name=\"viewport\" content=\"width=device-width, initial-scale=1.0\">\n",
        "  <title>D3.js Event Handling</title>\n",
        "  <script src=\"https://d3js.org/d3.v5.min.js\"></script>\n",
        "</head>\n",
        "<body>\n",
        "  <h2>Click the circle</h2>\n",
        "  <svg width=\"200\" height=\"200\">\n",
        "    <circle cx=\"100\" cy=\"100\" r=\"50\" fill=\"orange\"></circle>\n",
        "  </svg>\n",
        "\n",
        "  <script>\n",
        "    const circle = d3.select(\"circle\");\n",
        "\n",
        "    // Add event listener for click event\n",
        "    circle.on(\"click\", function() {\n",
        "      d3.select(this)\n",
        "        .transition()\n",
        "        .duration(1000)\n",
        "        .attr(\"fill\", \"orange\");\n",
        "    });\n",
        "  </script>\n",
        "</body>\n",
        "</html>\n"
      ]
    },
    {
      "cell_type": "code",
      "source": [
        "%%html\n",
        "<!DOCTYPE html>\n",
        "<html lang=\"en\">\n",
        "<head>\n",
        "  <meta charset=\"UTF-8\">\n",
        "  <meta name=\"viewport\" content=\"width=device-width, initial-scale=1.0\">\n",
        "  <title>D3.js Dragging Event</title>\n",
        "  <script src=\"https://d3js.org/d3.v5.min.js\"></script>\n",
        "</head>\n",
        "<body>\n",
        "  <h2>Drag the circle</h2>\n",
        "  <svg width=\"800\" height=\"800\" class=\"container\">\n",
        "    <circle cx=\"100\" cy=\"100\" r=\"50\" fill=\"orange\"></circle>\n",
        "  </svg>\n",
        "  <style>\n",
        "  .container {\n",
        "    border: 2px solid red;\n",
        "  }\n",
        "  </style>\n",
        "  <script>\n",
        "    const svg = d3.select(\"svg\");\n",
        "\n",
        "    const dragHandler = d3.drag()\n",
        "      .on(\"start\", function() {\n",
        "        d3.select(this)\n",
        "          .attr(\"fill\", \"orange\");\n",
        "      })\n",
        "      .on(\"drag\", function() {\n",
        "        d3.select(this)\n",
        "          .attr(\"cx\", d3.event.x)\n",
        "          .attr(\"cy\", d3.event.y);\n",
        "      })\n",
        "      .on(\"end\", function() {\n",
        "        d3.select(this)\n",
        "          .attr(\"fill\", \"steelblue\");\n",
        "      });\n",
        "\n",
        "    svg.select(\"circle\")\n",
        "      .call(dragHandler);\n",
        "  </script>\n",
        "</body>\n",
        "</html>\n"
      ],
      "metadata": {
        "colab": {
          "base_uri": "https://localhost:8080/",
          "height": 873
        },
        "id": "PEqtr45iucRY",
        "outputId": "51eade92-5074-4f93-94f5-29d142e8b9c3"
      },
      "execution_count": 3,
      "outputs": [
        {
          "output_type": "display_data",
          "data": {
            "text/plain": [
              "<IPython.core.display.HTML object>"
            ],
            "text/html": [
              "<!DOCTYPE html>\n",
              "<html lang=\"en\">\n",
              "<head>\n",
              "  <meta charset=\"UTF-8\">\n",
              "  <meta name=\"viewport\" content=\"width=device-width, initial-scale=1.0\">\n",
              "  <title>D3.js Dragging Event</title>\n",
              "  <script src=\"https://d3js.org/d3.v5.min.js\"></script>\n",
              "</head>\n",
              "<body>\n",
              "  <h2>Drag the circle</h2>\n",
              "  <svg width=\"800\" height=\"800\" class=\"container\">\n",
              "    <circle cx=\"100\" cy=\"100\" r=\"50\" fill=\"orange\"></circle>\n",
              "  </svg>\n",
              "  <style>\n",
              "  .container {\n",
              "    border: 2px solid red;\n",
              "  }\n",
              "  </style>\n",
              "  <script>\n",
              "    const svg = d3.select(\"svg\");\n",
              "\n",
              "    const dragHandler = d3.drag()\n",
              "      .on(\"start\", function() {\n",
              "        d3.select(this)\n",
              "          .attr(\"fill\", \"orange\");\n",
              "      })\n",
              "      .on(\"drag\", function() {\n",
              "        d3.select(this)\n",
              "          .attr(\"cx\", d3.event.x)\n",
              "          .attr(\"cy\", d3.event.y);\n",
              "      })\n",
              "      .on(\"end\", function() {\n",
              "        d3.select(this)\n",
              "          .attr(\"fill\", \"steelblue\");\n",
              "      });\n",
              "\n",
              "    svg.select(\"circle\")\n",
              "      .call(dragHandler);\n",
              "  </script>\n",
              "</body>\n",
              "</html>\n"
            ]
          },
          "metadata": {}
        }
      ]
    }
  ]
}